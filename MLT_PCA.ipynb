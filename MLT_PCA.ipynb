{
 "cells": [
  {
   "cell_type": "markdown",
   "id": "a2ed7376",
   "metadata": {},
   "source": [
    "# Coding the course - MLT"
   ]
  },
  {
   "cell_type": "markdown",
   "id": "125f6777",
   "metadata": {},
   "source": [
    "With this notebook, I will get started with the coding of my course \"Machine learning techniques\"\n",
    "\n",
    "In \"Machine Learning Techniques\", we learnt the mathematical working of some key algorithms in Machine Learning, ranging from unsupervised to supervised learning algorithms. I will be programming those algorithms in python from scratch.\n",
    "\n",
    "Towards the end of this coding series, I will create my very own module for ML\n"
   ]
  },
  {
   "cell_type": "markdown",
   "id": "d1227a45",
   "metadata": {},
   "source": [
    "# Principal Component Analysis\n",
    "\n",
    "PCA is a very famous unsupervised learning algorithm used for dimensionality reduction. \n",
    "\n",
    "There are 3 approaches to PCA implementation: \n",
    "- Variance maximization\n",
    "- Reconstruction error minimization\n",
    "- Minimizing covariance"
   ]
  },
  {
   "cell_type": "code",
   "execution_count": 5,
   "id": "13ed0b82",
   "metadata": {},
   "outputs": [
    {
     "name": "stderr",
     "output_type": "stream",
     "text": [
      "2023-09-05 23:49:55.279048: I tensorflow/core/platform/cpu_feature_guard.cc:193] This TensorFlow binary is optimized with oneAPI Deep Neural Network Library (oneDNN) to use the following CPU instructions in performance-critical operations:  AVX2 FMA\n",
      "To enable them in other operations, rebuild TensorFlow with the appropriate compiler flags.\n",
      "/Users/PushpakRuhil/opt/anaconda3/lib/python3.9/site-packages/scipy/__init__.py:155: UserWarning: A NumPy version >=1.18.5 and <1.25.0 is required for this version of SciPy (detected version 1.25.2\n",
      "  warnings.warn(f\"A NumPy version >={np_minversion} and <{np_maxversion}\"\n"
     ]
    }
   ],
   "source": [
    "import matplotlib.pyplot as plt\n",
    "import numpy as np\n",
    "from tensorflow.keras.datasets import mnist\n"
   ]
  },
  {
   "cell_type": "code",
   "execution_count": 6,
   "id": "1bd48306",
   "metadata": {},
   "outputs": [],
   "source": [
    "# Dataset generation from keras dataset\n",
    "\n",
    "(X_train, y_train), (X_test, y_test) = mnist.load_data()\n",
    "X = X_train[y_train == 2][: 100].reshape(-1, 28 * 28)\n",
    "test_image = X_test[y_test == 2][0].reshape(28 * 28)"
   ]
  },
  {
   "cell_type": "code",
   "execution_count": 7,
   "id": "25dc55b4",
   "metadata": {},
   "outputs": [
    {
     "data": {
      "text/plain": [
       "(100, 784)"
      ]
     },
     "execution_count": 7,
     "metadata": {},
     "output_type": "execute_result"
    }
   ],
   "source": [
    "X.shape"
   ]
  },
  {
   "cell_type": "code",
   "execution_count": 8,
   "id": "29237865",
   "metadata": {},
   "outputs": [
    {
     "data": {
      "text/plain": [
       "<matplotlib.image.AxesImage at 0x7f9de0c846a0>"
      ]
     },
     "execution_count": 8,
     "metadata": {},
     "output_type": "execute_result"
    },
    {
     "data": {
      "image/png": "[encoded data removed]",
      "text/plain": [
       "<Figure size 640x480 with 1 Axes>"
      ]
     },
     "metadata": {},
     "output_type": "display_data"
    }
   ],
   "source": [
    "# reshape(-1, d) reshapes the matrix with d number of columns \n",
    "# It autofills the value in place of -1 (consider -1 as a wildcard placeholder)\n",
    "\n",
    "# imshow is a method used to visualize the data point\n",
    "plt.imshow(X[0].reshape(-1, 28))"
   ]
  },
  {
   "cell_type": "code",
   "execution_count": 9,
   "id": "96345246",
   "metadata": {},
   "outputs": [],
   "source": [
    "# A function to center the dataset\n",
    "\n",
    "def centering(X):\n",
    "    X_new = X - X.mean() # Subtracting the mean from every value with axis=0 (default)\n",
    "    return X_new"
   ]
  },
  {
   "cell_type": "code",
   "execution_count": 10,
   "id": "a70fba03",
   "metadata": {},
   "outputs": [],
   "source": [
    "# We are working with a smaller dataset, stored in the variable X\n",
    "X_new = centering(X)"
   ]
  },
  {
   "cell_type": "code",
   "execution_count": 11,
   "id": "2a195975",
   "metadata": {},
   "outputs": [],
   "source": [
    "# storing the number of data points and the dimension in the respective variables\n",
    "n, d = X_new.shape"
   ]
  },
  {
   "cell_type": "code",
   "execution_count": 12,
   "id": "2e58d5cf",
   "metadata": {},
   "outputs": [
    {
     "data": {
      "text/plain": [
       "(100, 784)"
      ]
     },
     "execution_count": 12,
     "metadata": {},
     "output_type": "execute_result"
    }
   ],
   "source": [
    "n, d"
   ]
  },
  {
   "cell_type": "code",
   "execution_count": 13,
   "id": "a32058f8",
   "metadata": {},
   "outputs": [
    {
     "data": {
      "text/plain": [
       "<matplotlib.image.AxesImage at 0x7f9de1ff6850>"
      ]
     },
     "execution_count": 13,
     "metadata": {},
     "output_type": "execute_result"
    },
    {
     "data": {
      "image/png": "[encoded data removed]",
      "text/plain": [
       "<Figure size 640x480 with 1 Axes>"
      ]
     },
     "metadata": {},
     "output_type": "display_data"
    }
   ],
   "source": [
    "plt.imshow(X_new[0].reshape(-1, 28))"
   ]
  },
  {
   "cell_type": "code",
   "execution_count": 14,
   "id": "039ec46e",
   "metadata": {},
   "outputs": [
    {
     "data": {
      "text/plain": [
       "array([[-38.41290816, -38.41290816, -38.41290816, -38.41290816,\n",
       "        -38.41290816, -38.41290816, -38.41290816, -38.41290816,\n",
       "        -38.41290816, -38.41290816, -38.41290816, -38.41290816,\n",
       "        -38.41290816, -38.41290816, -38.41290816, -38.41290816,\n",
       "        -38.41290816, -38.41290816, -38.41290816, -38.41290816,\n",
       "        -38.41290816, -38.41290816, -38.41290816, -38.41290816,\n",
       "        -38.41290816, -38.41290816, -38.41290816, -38.41290816],\n",
       "       [-38.41290816, -38.41290816, -38.41290816, -38.41290816,\n",
       "        -38.41290816, -38.41290816, -38.41290816, -38.41290816,\n",
       "        -38.41290816, -38.41290816, -38.41290816, -38.41290816,\n",
       "        -38.41290816, -38.41290816, -38.41290816, -38.41290816,\n",
       "        -38.41290816, -38.41290816, -38.41290816, -38.41290816,\n",
       "        -38.41290816, -38.41290816, -38.41290816, -38.41290816,\n",
       "        -38.41290816, -38.41290816, -38.41290816, -38.41290816],\n",
       "       [-38.41290816, -38.41290816, -38.41290816, -38.41290816,\n",
       "        -38.41290816, -38.41290816, -38.41290816, -38.41290816,\n",
       "        -38.41290816, -38.41290816, -38.41290816, -38.41290816,\n",
       "        -38.41290816, -38.41290816, -38.41290816, -38.41290816,\n",
       "        -38.41290816, -38.41290816, -38.41290816, -38.41290816,\n",
       "        -38.41290816, -38.41290816, -38.41290816, -38.41290816,\n",
       "        -38.41290816, -38.41290816, -38.41290816, -38.41290816],\n",
       "       [-38.41290816, -38.41290816, -38.41290816, -38.41290816,\n",
       "        -38.41290816, -38.41290816, -38.41290816, -38.41290816,\n",
       "        -38.41290816, -38.41290816, -38.41290816, -38.41290816,\n",
       "        -38.41290816, -38.41290816, -38.41290816, -38.41290816,\n",
       "        -38.41290816, -38.41290816, -38.41290816, -38.41290816,\n",
       "        -38.41290816, -38.41290816, -38.41290816, -38.41290816,\n",
       "        -38.41290816, -38.41290816, -38.41290816, -38.41290816],\n",
       "       [-38.41290816, -38.41290816, -38.41290816, -38.41290816,\n",
       "        -38.41290816, -38.41290816, -38.41290816, -38.41290816,\n",
       "        -38.41290816, -38.41290816, -38.41290816, -38.41290816,\n",
       "        -38.41290816, -38.41290816, -38.41290816, -38.41290816,\n",
       "        -38.41290816, -38.41290816, -38.41290816, -38.41290816,\n",
       "        -38.41290816, -38.41290816, -38.41290816, -38.41290816,\n",
       "        -38.41290816, -38.41290816, -38.41290816, -38.41290816],\n",
       "       [-38.41290816, -38.41290816, -38.41290816, -38.41290816,\n",
       "        -38.41290816, -38.41290816, -38.41290816, -38.41290816,\n",
       "        -38.41290816, -38.41290816, -38.41290816, -38.41290816,\n",
       "        -38.41290816, -38.41290816, -38.41290816, -25.41290816,\n",
       "        -13.41290816,  61.58709184,  83.58709184, -31.41290816,\n",
       "        -38.41290816, -38.41290816, -38.41290816, -38.41290816,\n",
       "        -38.41290816, -38.41290816, -38.41290816, -38.41290816],\n",
       "       [-38.41290816, -38.41290816, -38.41290816, -38.41290816,\n",
       "        -38.41290816, -38.41290816, -38.41290816, -38.41290816,\n",
       "        -38.41290816, -38.41290816, -38.41290816, -38.41290816,\n",
       "        -38.41290816,  -5.41290816, 112.58709184, 169.58709184,\n",
       "        213.58709184, 213.58709184, 213.58709184, 107.58709184,\n",
       "        -38.41290816, -38.41290816, -38.41290816, -38.41290816,\n",
       "        -38.41290816, -38.41290816, -38.41290816, -38.41290816],\n",
       "       [-38.41290816, -38.41290816, -38.41290816, -38.41290816,\n",
       "        -38.41290816, -38.41290816, -38.41290816, -38.41290816,\n",
       "        -38.41290816, -38.41290816, -38.41290816,   1.58709184,\n",
       "        113.58709184, 205.58709184, 213.58709184, 214.58709184,\n",
       "        185.58709184, 172.58709184, 213.58709184, 193.58709184,\n",
       "          1.58709184, -38.41290816, -38.41290816, -38.41290816,\n",
       "        -38.41290816, -38.41290816, -38.41290816, -38.41290816],\n",
       "       [-38.41290816, -38.41290816, -38.41290816, -38.41290816,\n",
       "        -38.41290816, -38.41290816, -38.41290816, -38.41290816,\n",
       "        -38.41290816, -23.41290816, 113.58709184, 200.58709184,\n",
       "        213.58709184, 213.58709184, 213.58709184, 177.58709184,\n",
       "         -7.41290816,  -1.41290816, 213.58709184, 213.58709184,\n",
       "         21.58709184, -38.41290816, -38.41290816, -38.41290816,\n",
       "        -38.41290816, -38.41290816, -38.41290816, -38.41290816],\n",
       "       [-38.41290816, -38.41290816, -38.41290816, -38.41290816,\n",
       "        -38.41290816, -38.41290816, -38.41290816, -38.41290816,\n",
       "        -38.41290816,  57.58709184, 213.58709184, 213.58709184,\n",
       "        213.58709184, 213.58709184, 178.58709184,  -9.41290816,\n",
       "        -38.41290816,  -1.41290816, 213.58709184, 213.58709184,\n",
       "         21.58709184, -38.41290816, -38.41290816, -38.41290816,\n",
       "        -38.41290816, -38.41290816, -38.41290816, -38.41290816],\n",
       "       [-38.41290816, -38.41290816, -38.41290816, -38.41290816,\n",
       "        -38.41290816, -38.41290816, -38.41290816, -38.41290816,\n",
       "        -38.41290816, 142.58709184, 213.58709184, 213.58709184,\n",
       "        181.58709184, 128.58709184,  -8.41290816, -38.41290816,\n",
       "        -38.41290816,  38.58709184, 213.58709184, 213.58709184,\n",
       "         21.58709184, -38.41290816, -38.41290816, -38.41290816,\n",
       "        -38.41290816, -38.41290816, -38.41290816, -38.41290816],\n",
       "       [-38.41290816, -38.41290816, -38.41290816, -38.41290816,\n",
       "        -38.41290816, -38.41290816, -38.41290816, -38.41290816,\n",
       "        -38.41290816, -12.41290816,  89.58709184,  19.58709184,\n",
       "        -16.41290816, -38.41290816, -38.41290816, -38.41290816,\n",
       "        -38.41290816,  61.58709184, 213.58709184, 213.58709184,\n",
       "         21.58709184, -38.41290816, -38.41290816, -38.41290816,\n",
       "        -38.41290816, -38.41290816, -38.41290816, -38.41290816],\n",
       "       [-38.41290816, -38.41290816, -38.41290816, -38.41290816,\n",
       "        -38.41290816, -38.41290816, -38.41290816, -38.41290816,\n",
       "        -38.41290816, -38.41290816, -38.41290816, -38.41290816,\n",
       "        -38.41290816, -38.41290816, -38.41290816, -38.41290816,\n",
       "        -38.41290816, 118.58709184, 213.58709184, 213.58709184,\n",
       "         21.58709184, -38.41290816, -38.41290816, -38.41290816,\n",
       "        -38.41290816, -38.41290816, -38.41290816, -38.41290816],\n",
       "       [-38.41290816, -38.41290816, -38.41290816, -38.41290816,\n",
       "        -38.41290816, -38.41290816, -38.41290816, -38.41290816,\n",
       "        -38.41290816, -38.41290816, -38.41290816, -38.41290816,\n",
       "        -38.41290816,  71.58709184,  82.58709184,  83.58709184,\n",
       "         82.58709184, 163.58709184, 213.58709184, 155.58709184,\n",
       "        -35.41290816, -38.41290816, -38.41290816, -38.41290816,\n",
       "        -38.41290816, -38.41290816, -38.41290816, -38.41290816],\n",
       "       [-38.41290816, -38.41290816, -38.41290816, -38.41290816,\n",
       "        -38.41290816, -38.41290816, -38.41290816, -38.41290816,\n",
       "        -38.41290816, -38.41290816, -28.41290816,  14.58709184,\n",
       "        140.58709184, 214.58709184, 214.58709184, 216.58709184,\n",
       "        214.58709184, 214.58709184, 189.58709184,  -3.41290816,\n",
       "        -38.41290816, -38.41290816, -38.41290816, -38.41290816,\n",
       "        -38.41290816, -38.41290816, -38.41290816, -38.41290816],\n",
       "       [-38.41290816, -38.41290816, -38.41290816, -38.41290816,\n",
       "        -38.41290816, -38.41290816, -38.41290816, -38.41290816,\n",
       "        -33.41290816,  15.58709184, 188.58709184, 213.58709184,\n",
       "        204.58709184, 189.58709184, 131.58709184, 203.58709184,\n",
       "        213.58709184, 213.58709184, 192.58709184,  78.58709184,\n",
       "        -32.41290816, -38.41290816, -38.41290816, -38.41290816,\n",
       "        -38.41290816, -38.41290816, -38.41290816, -38.41290816],\n",
       "       [-38.41290816, -38.41290816, -38.41290816, -38.41290816,\n",
       "        -38.41290816, -38.41290816, -38.41290816, -32.41290816,\n",
       "         39.58709184, 213.58709184, 213.58709184,  86.58709184,\n",
       "         20.58709184, -38.41290816, -20.41290816, 169.58709184,\n",
       "        213.58709184, 213.58709184, 213.58709184, 213.58709184,\n",
       "         48.58709184, -31.41290816, -38.41290816, -38.41290816,\n",
       "        -38.41290816, -38.41290816, -38.41290816, -38.41290816],\n",
       "       [-38.41290816, -38.41290816, -38.41290816, -38.41290816,\n",
       "        -38.41290816, -38.41290816, -33.41290816,  96.58709184,\n",
       "        213.58709184, 213.58709184, 141.58709184, -22.41290816,\n",
       "        -38.41290816, -17.41290816, 164.58709184, 214.58709184,\n",
       "        208.58709184,  90.58709184, 134.58709184, 213.58709184,\n",
       "        213.58709184, 145.58709184,  27.58709184,  10.58709184,\n",
       "         10.58709184, -38.41290816, -38.41290816, -38.41290816],\n",
       "       [-38.41290816, -38.41290816, -38.41290816, -38.41290816,\n",
       "        -38.41290816, -35.41290816,  97.58709184, 213.58709184,\n",
       "        202.58709184,  67.58709184, -21.41290816, -38.41290816,\n",
       "         14.58709184, 161.58709184, 213.58709184, 177.58709184,\n",
       "         26.58709184, -38.41290816, -24.41290816,  33.58709184,\n",
       "        124.58709184, 202.58709184, 213.58709184, 213.58709184,\n",
       "        184.58709184, -38.41290816, -38.41290816, -38.41290816],\n",
       "       [-38.41290816, -38.41290816, -38.41290816, -38.41290816,\n",
       "        -38.41290816,  66.58709184, 213.58709184, 203.58709184,\n",
       "         49.58709184, -20.41290816,  34.58709184, 131.58709184,\n",
       "        205.58709184, 213.58709184,  87.58709184,  -9.41290816,\n",
       "        -38.41290816, -38.41290816, -38.41290816, -38.41290816,\n",
       "        -38.41290816,  50.58709184, 141.58709184, 141.58709184,\n",
       "         -1.41290816, -38.41290816, -38.41290816, -38.41290816],\n",
       "       [-38.41290816, -38.41290816, -38.41290816, -38.41290816,\n",
       "        -38.41290816, 192.58709184, 213.58709184, 206.58709184,\n",
       "        166.58709184, 177.58709184, 213.58709184, 213.58709184,\n",
       "        213.58709184,  85.58709184, -35.41290816, -38.41290816,\n",
       "        -38.41290816, -38.41290816, -38.41290816, -38.41290816,\n",
       "        -38.41290816, -38.41290816, -38.41290816, -38.41290816,\n",
       "        -38.41290816, -38.41290816, -38.41290816, -38.41290816],\n",
       "       [-38.41290816, -38.41290816, -38.41290816, -38.41290816,\n",
       "        -38.41290816, 168.58709184, 213.58709184, 213.58709184,\n",
       "        213.58709184, 213.58709184, 139.58709184,  77.58709184,\n",
       "         -2.41290816, -34.41290816, -38.41290816, -38.41290816,\n",
       "        -38.41290816, -38.41290816, -38.41290816, -38.41290816,\n",
       "        -38.41290816, -38.41290816, -38.41290816, -38.41290816,\n",
       "        -38.41290816, -38.41290816, -38.41290816, -38.41290816],\n",
       "       [-38.41290816, -38.41290816, -38.41290816, -38.41290816,\n",
       "        -38.41290816, -25.41290816,  54.58709184, 104.58709184,\n",
       "         82.58709184, -15.41290816, -32.41290816, -38.41290816,\n",
       "        -38.41290816, -38.41290816, -38.41290816, -38.41290816,\n",
       "        -38.41290816, -38.41290816, -38.41290816, -38.41290816,\n",
       "        -38.41290816, -38.41290816, -38.41290816, -38.41290816,\n",
       "        -38.41290816, -38.41290816, -38.41290816, -38.41290816],\n",
       "       [-38.41290816, -38.41290816, -38.41290816, -38.41290816,\n",
       "        -38.41290816, -38.41290816, -38.41290816, -38.41290816,\n",
       "        -38.41290816, -38.41290816, -38.41290816, -38.41290816,\n",
       "        -38.41290816, -38.41290816, -38.41290816, -38.41290816,\n",
       "        -38.41290816, -38.41290816, -38.41290816, -38.41290816,\n",
       "        -38.41290816, -38.41290816, -38.41290816, -38.41290816,\n",
       "        -38.41290816, -38.41290816, -38.41290816, -38.41290816],\n",
       "       [-38.41290816, -38.41290816, -38.41290816, -38.41290816,\n",
       "        -38.41290816, -38.41290816, -38.41290816, -38.41290816,\n",
       "        -38.41290816, -38.41290816, -38.41290816, -38.41290816,\n",
       "        -38.41290816, -38.41290816, -38.41290816, -38.41290816,\n",
       "        -38.41290816, -38.41290816, -38.41290816, -38.41290816,\n",
       "        -38.41290816, -38.41290816, -38.41290816, -38.41290816,\n",
       "        -38.41290816, -38.41290816, -38.41290816, -38.41290816],\n",
       "       [-38.41290816, -38.41290816, -38.41290816, -38.41290816,\n",
       "        -38.41290816, -38.41290816, -38.41290816, -38.41290816,\n",
       "        -38.41290816, -38.41290816, -38.41290816, -38.41290816,\n",
       "        -38.41290816, -38.41290816, -38.41290816, -38.41290816,\n",
       "        -38.41290816, -38.41290816, -38.41290816, -38.41290816,\n",
       "        -38.41290816, -38.41290816, -38.41290816, -38.41290816,\n",
       "        -38.41290816, -38.41290816, -38.41290816, -38.41290816],\n",
       "       [-38.41290816, -38.41290816, -38.41290816, -38.41290816,\n",
       "        -38.41290816, -38.41290816, -38.41290816, -38.41290816,\n",
       "        -38.41290816, -38.41290816, -38.41290816, -38.41290816,\n",
       "        -38.41290816, -38.41290816, -38.41290816, -38.41290816,\n",
       "        -38.41290816, -38.41290816, -38.41290816, -38.41290816,\n",
       "        -38.41290816, -38.41290816, -38.41290816, -38.41290816,\n",
       "        -38.41290816, -38.41290816, -38.41290816, -38.41290816],\n",
       "       [-38.41290816, -38.41290816, -38.41290816, -38.41290816,\n",
       "        -38.41290816, -38.41290816, -38.41290816, -38.41290816,\n",
       "        -38.41290816, -38.41290816, -38.41290816, -38.41290816,\n",
       "        -38.41290816, -38.41290816, -38.41290816, -38.41290816,\n",
       "        -38.41290816, -38.41290816, -38.41290816, -38.41290816,\n",
       "        -38.41290816, -38.41290816, -38.41290816, -38.41290816,\n",
       "        -38.41290816, -38.41290816, -38.41290816, -38.41290816]])"
      ]
     },
     "execution_count": 14,
     "metadata": {},
     "output_type": "execute_result"
    }
   ],
   "source": [
    "# Can compare the value of X_train[0,:] with the below value\n",
    "X_new[0].reshape(-1, 28)"
   ]
  },
  {
   "cell_type": "markdown",
   "id": "9342d09c",
   "metadata": {},
   "source": [
    "Now, we have to compute the covariance matrix\n",
    "\n",
    "The covariance matrix is computed using the centered data using the below formula:\n",
    "\n",
    "$$\n",
    "\\text{If our X has the dimensions } n \\times d\n",
    "\\\\\n",
    "\\\\\n",
    "C = \\dfrac{1}{n}X^TX\n",
    "$$"
   ]
  },
  {
   "cell_type": "code",
   "execution_count": 15,
   "id": "3c92efd0",
   "metadata": {},
   "outputs": [],
   "source": [
    "# Covariance matrix computation\n",
    "# .T method is used to take the transpose(similar to .transpose())\n",
    "# @ symbol is used for matrix multiplication. If we use *, it'll be a value by value multiplication\n",
    "C = (X_new.T @ X_new)/n"
   ]
  },
  {
   "cell_type": "code",
   "execution_count": 16,
   "id": "d5958b42",
   "metadata": {},
   "outputs": [
    {
     "data": {
      "text/plain": [
       "(784, 784)"
      ]
     },
     "execution_count": 16,
     "metadata": {},
     "output_type": "execute_result"
    }
   ],
   "source": [
    "C.shape"
   ]
  },
  {
   "cell_type": "markdown",
   "id": "213d1b72",
   "metadata": {},
   "source": [
    "Now, we have our centered dataset in $X_{new}$\n",
    "\n",
    "We also have our covariance matrix $C$\n",
    "\n",
    "Now, we need to calculate the principal components from the covariance matrix.\n",
    "\n",
    "We will do so using the numpy library/module"
   ]
  },
  {
   "cell_type": "code",
   "execution_count": 41,
   "id": "c37e0221",
   "metadata": {},
   "outputs": [],
   "source": [
    "# Splitting the eigenvalues and the eigenvectors of the covariance matrix\n",
    "e_vals, e_vectors = np.linalg.eigh(C)\n"
   ]
  },
  {
   "cell_type": "code",
   "execution_count": 42,
   "id": "69ddab4c",
   "metadata": {},
   "outputs": [
    {
     "name": "stdout",
     "output_type": "stream",
     "text": [
      "-8.389069827961787e-10\n",
      "2313640.6881906735\n"
     ]
    }
   ],
   "source": [
    "# Printing the max and the min eigenvalue\n",
    "print(e_vals[0], e_vals[-1], sep=\"\\n\")"
   ]
  },
  {
   "cell_type": "code",
   "execution_count": 47,
   "id": "cebcc79e",
   "metadata": {},
   "outputs": [],
   "source": [
    "# Storing 2 eigenvectors of C in the variables\n",
    "w1, w2 = e_vectors[:,-1], e_vectors[:,-2]"
   ]
  },
  {
   "cell_type": "markdown",
   "id": "7f54cbd5",
   "metadata": {},
   "source": [
    "Now, we have the first 2 eigenvectors with us. Similarly, we can get the other eigenvectors as well"
   ]
  },
  {
   "cell_type": "code",
   "execution_count": 44,
   "id": "13418b24",
   "metadata": {},
   "outputs": [
    {
     "name": "stdout",
     "output_type": "stream",
     "text": [
      "1.0000000000000004\n",
      "0.9999999999999999\n"
     ]
    }
   ],
   "source": [
    "# Checking the norm of each eigenvector to confirm norm 1\n",
    "\n",
    "print(np.linalg.norm(w1))\n",
    "print(np.linalg.norm(w2))"
   ]
  },
  {
   "cell_type": "markdown",
   "id": "60a69177",
   "metadata": {},
   "source": [
    "Each data point $x$ can be represented as follows:\n",
    "\n",
    "$$\n",
    "x_i = \\sum_{j=0}^{k} (x_i^T \\cdot w_j) \\cdot w_j\n",
    "$$\n",
    "\n",
    "where k represents the top k Principal Components that we want to select"
   ]
  },
  {
   "cell_type": "code",
   "execution_count": 60,
   "id": "63fd91dd",
   "metadata": {},
   "outputs": [],
   "source": [
    "# x_1 with 2 PCs\n",
    "x_1 = ((X[0].T @ w1.reshape(-1, 1))*w1.reshape(-1, 1)) + ((X[0].T @ w2.reshape(-1, 1))* w2.reshape(-1, 1))"
   ]
  },
  {
   "cell_type": "code",
   "execution_count": 61,
   "id": "e9e202c5",
   "metadata": {},
   "outputs": [
    {
     "data": {
      "text/plain": [
       "(784, 1)"
      ]
     },
     "execution_count": 61,
     "metadata": {},
     "output_type": "execute_result"
    }
   ],
   "source": [
    "x_1.shape"
   ]
  },
  {
   "cell_type": "code",
   "execution_count": 62,
   "id": "27614980",
   "metadata": {},
   "outputs": [
    {
     "data": {
      "image/png": "[encoded data removed]",
      "text/plain": [
       "<Figure size 640x480 with 1 Axes>"
      ]
     },
     "metadata": {},
     "output_type": "display_data"
    }
   ],
   "source": [
    "plt.imshow(x_1.reshape(28,28))\n",
    "plt.show()"
   ]
  },
  {
   "cell_type": "code",
   "execution_count": 63,
   "id": "ed5a0c30",
   "metadata": {},
   "outputs": [
    {
     "data": {
      "text/plain": [
       "(784,)"
      ]
     },
     "execution_count": 63,
     "metadata": {},
     "output_type": "execute_result"
    }
   ],
   "source": [
    "w1.shape"
   ]
  },
  {
   "cell_type": "code",
   "execution_count": 95,
   "id": "d1ca719d",
   "metadata": {},
   "outputs": [
    {
     "name": "stdout",
     "output_type": "stream",
     "text": [
      "0.951175125415069\n",
      "44\n",
      "-------------\n",
      "1.0000000000000004\n",
      "101\n"
     ]
    }
   ],
   "source": [
    "# Checking the number of eigenvectors required to preserve 95% variance\n",
    "\n",
    "\n",
    "\n",
    "def choose_k(threshold=0.95):\n",
    "    var_preserved = 0\n",
    "    sum_evals = np.sum(e_vals)\n",
    "    counter = 0\n",
    "    evals_reversed = np.flip(e_vals)\n",
    "    \n",
    "    while var_preserved < threshold:\n",
    "        var_preserved = np.sum(evals_reversed[0:counter])/sum_evals\n",
    "        counter +=1\n",
    "    print(var_preserved)\n",
    "    return counter\n",
    "    \n",
    "\n",
    "print(choose_k(0.95))\n",
    "print(\"-------------\")\n",
    "print(choose_k(1))"
   ]
  },
  {
   "cell_type": "code",
   "execution_count": 96,
   "id": "dcc48c2f",
   "metadata": {},
   "outputs": [],
   "source": [
    "# For loop to take the top 53 eigenvectors\n",
    "x_1 = 0\n",
    "for i in range(44):\n",
    "    x_1 += (X[0].T @ e_vectors[:,-i].reshape(-1,1))*e_vectors[:,-i].reshape(-1,1)"
   ]
  },
  {
   "cell_type": "code",
   "execution_count": 97,
   "id": "5580d81b",
   "metadata": {},
   "outputs": [
    {
     "data": {
      "image/png": "[encoded data removed]",
      "text/plain": [
       "<Figure size 640x480 with 1 Axes>"
      ]
     },
     "metadata": {},
     "output_type": "display_data"
    }
   ],
   "source": [
    "plt.imshow(x_1.reshape(-1,28))\n",
    "plt.show()"
   ]
  },
  {
   "cell_type": "code",
   "execution_count": 85,
   "id": "9a4fad49",
   "metadata": {},
   "outputs": [
    {
     "data": {
      "text/plain": [
       "(784, 784)"
      ]
     },
     "execution_count": 85,
     "metadata": {},
     "output_type": "execute_result"
    }
   ],
   "source": [
    "e_vectors.shape"
   ]
  },
  {
   "cell_type": "code",
   "execution_count": 89,
   "id": "517e454d",
   "metadata": {},
   "outputs": [
    {
     "data": {
      "text/plain": [
       "<matplotlib.image.AxesImage at 0x7f9de4f72e20>"
      ]
     },
     "execution_count": 89,
     "metadata": {},
     "output_type": "execute_result"
    },
    {
     "data": {
      "image/png": "[encoded data removed]",
      "text/plain": [
       "<Figure size 640x480 with 1 Axes>"
      ]
     },
     "metadata": {},
     "output_type": "display_data"
    }
   ],
   "source": [
    "w1_image = w1.reshape(28, 28)\n",
    "plt.imshow(w1_image, cmap = 'gray')"
   ]
  },
  {
   "cell_type": "code",
   "execution_count": 86,
   "id": "dd835ddf",
   "metadata": {},
   "outputs": [
    {
     "data": {
      "image/png": "[encoded data removed]",
      "text/plain": [
       "<Figure size 640x480 with 9 Axes>"
      ]
     },
     "metadata": {},
     "output_type": "display_data"
    }
   ],
   "source": [
    "# visualizing the top 9 eigenvectors to see the structural information they store in them\n",
    "for i in range(1,10):\n",
    "    plt.subplot(5, 3, i)\n",
    "    plt.imshow(e_vectors[:,-i].reshape(-1,28), cmap=\"gray\")"
   ]
  },
  {
   "cell_type": "markdown",
   "id": "7583525a",
   "metadata": {},
   "source": [
    "# PCA using SVD"
   ]
  },
  {
   "cell_type": "markdown",
   "id": "0d719fc4",
   "metadata": {},
   "source": [
    "We have also studied how singular value decomposition works.\n",
    "\n",
    "If we have a matrix $A$ which is $n\\times m$\n",
    "\n",
    "Then,\n",
    "$$\n",
    "A = U\\Sigma V^T\n",
    "$$\n",
    "\n",
    "Here, U is $n \\times n$\n",
    "\n",
    "$\\Sigma$ is $n \\times m$\n",
    "\n",
    "V is $m \\times m$"
   ]
  },
  {
   "cell_type": "code",
   "execution_count": 101,
   "id": "d427f4c9",
   "metadata": {},
   "outputs": [],
   "source": [
    "#SVD of the matrix X_new\n",
    "\n",
    "u, s, v_T = np.linalg.svd(X_new)"
   ]
  },
  {
   "cell_type": "code",
   "execution_count": 104,
   "id": "e56e8f6b",
   "metadata": {},
   "outputs": [],
   "source": [
    "# Getting V out of V-transpose\n",
    "v = v_T.T"
   ]
  },
  {
   "cell_type": "code",
   "execution_count": 105,
   "id": "6349dfbd",
   "metadata": {},
   "outputs": [
    {
     "data": {
      "text/plain": [
       "(784, 784)"
      ]
     },
     "execution_count": 105,
     "metadata": {},
     "output_type": "execute_result"
    }
   ],
   "source": [
    "# Our V matrix consists of the PCs\n",
    "\n",
    "v.shape"
   ]
  },
  {
   "cell_type": "code",
   "execution_count": 113,
   "id": "49dd86ca",
   "metadata": {},
   "outputs": [
    {
     "data": {
      "text/plain": [
       "<matplotlib.image.AxesImage at 0x7f9de2ff4fa0>"
      ]
     },
     "execution_count": 113,
     "metadata": {},
     "output_type": "execute_result"
    },
    {
     "data": {
      "image/png": "[encoded data removed]",
      "text/plain": [
       "<Figure size 640x480 with 1 Axes>"
      ]
     },
     "metadata": {},
     "output_type": "display_data"
    }
   ],
   "source": [
    "plt.imshow(v[0].reshape(-1,28))\n"
   ]
  },
  {
   "cell_type": "code",
   "execution_count": 114,
   "id": "181c48ae",
   "metadata": {},
   "outputs": [],
   "source": [
    "x_1_svd = 0\n",
    "for i in range(44):\n",
    "    x_1_svd += (X[0].T @ v[i].reshape(-1,1))*v[i].reshape(-1,1)"
   ]
  },
  {
   "cell_type": "code",
   "execution_count": 116,
   "id": "788e999e",
   "metadata": {},
   "outputs": [
    {
     "data": {
      "text/plain": [
       "(784, 1)"
      ]
     },
     "execution_count": 116,
     "metadata": {},
     "output_type": "execute_result"
    }
   ],
   "source": [
    "x_1_svd.shape"
   ]
  },
  {
   "cell_type": "code",
   "execution_count": 118,
   "id": "151b59a1",
   "metadata": {},
   "outputs": [
    {
     "data": {
      "text/plain": [
       "<matplotlib.image.AxesImage at 0x7f9de4e17370>"
      ]
     },
     "execution_count": 118,
     "metadata": {},
     "output_type": "execute_result"
    },
    {
     "data": {
      "image/png": "[encoded data removed]",
      "text/plain": [
       "<Figure size 640x480 with 1 Axes>"
      ]
     },
     "metadata": {},
     "output_type": "display_data"
    }
   ],
   "source": [
    "plt.imshow(x_1_svd.reshape(-1,28))"
   ]
  },
  {
   "cell_type": "code",
   "execution_count": null,
   "id": "36867d2c",
   "metadata": {},
   "outputs": [],
   "source": []
  }
 ],
 "metadata": {
  "kernelspec": {
   "display_name": "Python 3 (ipykernel)",
   "language": "python",
   "name": "python3"
  },
  "language_info": {
   "codemirror_mode": {
    "name": "ipython",
    "version": 3
   },
   "file_extension": ".py",
   "mimetype": "text/x-python",
   "name": "python",
   "nbconvert_exporter": "python",
   "pygments_lexer": "ipython3",
   "version": "3.9.13"
  },
  "toc": {
   "base_numbering": 1,
   "nav_menu": {},
   "number_sections": true,
   "sideBar": true,
   "skip_h1_title": false,
   "title_cell": "Table of Contents",
   "title_sidebar": "Contents",
   "toc_cell": false,
   "toc_position": {},
   "toc_section_display": true,
   "toc_window_display": false
  }
 },
 "nbformat": 4,
 "nbformat_minor": 5
}
