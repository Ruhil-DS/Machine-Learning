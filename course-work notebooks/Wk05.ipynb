{
 "cells": [
  {
   "cell_type": "markdown",
   "metadata": {
    "id": "WT2nf7VJXHsH"
   },
   "source": [
    "## Importing the libraries"
   ]
  },
  {
   "cell_type": "code",
   "execution_count": 1015,
   "metadata": {
    "id": "0kgvCN0n3_1p"
   },
   "outputs": [],
   "source": [
    "import numpy as np\n",
    "import matplotlib.pyplot as plt"
   ]
  },
  {
   "cell_type": "markdown",
   "metadata": {
    "id": "iBY90BqPXO31"
   },
   "source": [
    "This assignments has two sections:\n",
    "* Linear Regression\n",
    "* Kernel Regression\n",
    "\n",
    "\n"
   ]
  },
  {
   "cell_type": "markdown",
   "metadata": {
    "id": "X1nmn2q15Vzn"
   },
   "source": [
    "# Section 1:\n",
    "\n",
    "**Linear Regression**"
   ]
  },
  {
   "cell_type": "markdown",
   "metadata": {
    "id": "aComJ_Fd5dnI"
   },
   "source": [
    "We will use the Boston_housing dataset for the regression problem. Run the below cell to get the following variables:\n",
    "* `Training_data` = Training data matrix of shape $(n, d)$\n",
    "* `labels` = label vector corresponding to the training data\n",
    "* `test_data` = Test data matrix of shape $(n_1, d)$ where $n_1$ is the number of examples in test dataset.\n",
    "* `test_labels` = label vector corresponding to the test data\n",
    "\n",
    "Use this dataset for the regression problem."
   ]
  },
  {
   "cell_type": "code",
   "execution_count": 1016,
   "metadata": {
    "colab": {
     "base_uri": "https://localhost:8080/"
    },
    "executionInfo": {
     "elapsed": 3505,
     "status": "ok",
     "timestamp": 1664774803364,
     "user": {
      "displayName": "Nitin Kumar Jha",
      "userId": "04937771533360242308"
     },
     "user_tz": -330
    },
    "id": "53UCtcH64nsC",
    "outputId": "80999439-c3d1-48bb-e213-138c23ee41bd"
   },
   "outputs": [],
   "source": [
    "from keras.datasets import boston_housing\n",
    "Train, test = boston_housing.load_data(seed= 111)\n",
    "Training_data, labels = Train[0], Train[1]\n",
    "Test_data, test_labels = test[0], test[1]"
   ]
  },
  {
   "cell_type": "markdown",
   "metadata": {
    "id": "R0Dnj-Qha47p"
   },
   "source": [
    "## Question 1\n",
    "How many examples are there in the training dataset?\n",
    "\n"
   ]
  },
  {
   "cell_type": "code",
   "execution_count": 1017,
   "metadata": {
    "id": "vpLeerN2mGRi"
   },
   "outputs": [
    {
     "data": {
      "text/plain": [
       "(404, 13)"
      ]
     },
     "execution_count": 1017,
     "metadata": {},
     "output_type": "execute_result"
    }
   ],
   "source": [
    "## Enter your solution here\n",
    "Training_data.shape"
   ]
  },
  {
   "cell_type": "markdown",
   "metadata": {
    "id": "ChYFPOV5b5jZ"
   },
   "source": [
    "## Question 2\n",
    "How many examples are there in the test dataset?\n",
    "\n"
   ]
  },
  {
   "cell_type": "code",
   "execution_count": 1018,
   "metadata": {
    "id": "0XK7s98bb8PY"
   },
   "outputs": [
    {
     "data": {
      "text/plain": [
       "(102, 13)"
      ]
     },
     "execution_count": 1018,
     "metadata": {},
     "output_type": "execute_result"
    }
   ],
   "source": [
    "## Enter your solution here\n",
    "Test_data.shape"
   ]
  },
  {
   "cell_type": "markdown",
   "metadata": {
    "id": "ZYLLXlAacL5c"
   },
   "source": [
    "## Question 3\n",
    "\n",
    "How many features are there in the dataset?\n",
    "\n"
   ]
  },
  {
   "cell_type": "code",
   "execution_count": 1019,
   "metadata": {
    "id": "rGvr9_jkO7NA"
   },
   "outputs": [
    {
     "data": {
      "text/plain": [
       "13"
      ]
     },
     "execution_count": 1019,
     "metadata": {},
     "output_type": "execute_result"
    }
   ],
   "source": [
    "## Enter your solution here\n",
    "Training_data.shape[1]"
   ]
  },
  {
   "cell_type": "markdown",
   "metadata": {
    "id": "KmF4HhMmhx9R"
   },
   "source": [
    "Linear regression model for the dataset ${\\mathbb{x}, y}$ is given as\n",
    "$$h_w(\\mathbb{x}) = w_1x^{1}+w_2x^{2}+...+w_dx^{d} =  \\mathbb{x}^Tw\n",
    "$$\n",
    "\n",
    "where $x^{i}$ is the $i^{th}$ feature, $\\mathbb{x}$ is the feature matrix of shape $(d, n)$ and $w = [w_1, w_2, ...w_d]^T$ is the weight vector.\n",
    "\n",
    "\n",
    "Notice that above model always pass through the origin but for a given dataset, best fit model need not pass through the origin. To tackle this issue, we add an intercept $w_0$ in the model and set the corresponding featrue $x^{0}$ to $1$. That is \n",
    "\n",
    "$$h_w(\\mathbb{x}) =w_0x^{0}+ w_1x^{1}+w_2x^{2}+...+w_dx^{n} =  \\mathbb{x}^Tw\n",
    "$$\n",
    "\n",
    "We call $x^{0}$ the dummy feature and set its value to 1 for each examples. Now $w$ is of shape $(d+1, 1)$ and $\\mathbb{x}$ is of shape $(d+1, n)$ where the first row of $\\mathbb{x}$ has entries as 1.\n"
   ]
  },
  {
   "cell_type": "markdown",
   "metadata": {
    "id": "kN5fsfqfmX_w"
   },
   "source": [
    "## Task \n",
    "\n",
    "Add the dummy feature in the feature matrix `Training_data` and test data matrix `test_data`. We will be using this new feature matrices (after adding te dummy feature) for learning the model.\n",
    "\n",
    "Note: As per your convenience, you can convert the shape of the training dataset to $(d, n)$. "
   ]
  },
  {
   "cell_type": "code",
   "execution_count": 1020,
   "metadata": {},
   "outputs": [
    {
     "data": {
      "text/plain": [
       "((404, 1), (102, 1))"
      ]
     },
     "execution_count": 1020,
     "metadata": {},
     "output_type": "execute_result"
    }
   ],
   "source": [
    "y = labels.reshape((-1, 1))\n",
    "y_test = test_labels.reshape((-1, 1))\n",
    "y.shape, y_test.shape"
   ]
  },
  {
   "cell_type": "code",
   "execution_count": 1021,
   "metadata": {
    "id": "wic4nhW47fOv"
   },
   "outputs": [
    {
     "data": {
      "text/plain": [
       "((14, 404), (14, 102))"
      ]
     },
     "execution_count": 1021,
     "metadata": {},
     "output_type": "execute_result"
    }
   ],
   "source": [
    "## Enter your solution here\n",
    "X = np.concatenate((Training_data, np.ones((Training_data.shape[0], 1))), axis=1).T\n",
    "X_test = np.concatenate((Test_data, np.ones((Test_data.shape[0], 1))), axis=1).T\n",
    "X.shape, X_test.shape"
   ]
  },
  {
   "cell_type": "markdown",
   "metadata": {
    "id": "sK4oWgqCnzgc"
   },
   "source": [
    "## Question 4\n",
    "If the solution of optimization problem is obtained by setting the first derivative of loss function (squared loss) to zero, find the value of $w_0+w_1+...w_d$.\n",
    "\n",
    "\n"
   ]
  },
  {
   "cell_type": "code",
   "execution_count": 1022,
   "metadata": {
    "id": "JORYNRkdOo55"
   },
   "outputs": [],
   "source": [
    "## Enter your solution here\n",
    "w = np.linalg.pinv(X@X.T)@X@y"
   ]
  },
  {
   "cell_type": "code",
   "execution_count": 1023,
   "metadata": {},
   "outputs": [
    {
     "data": {
      "text/plain": [
       "20.52458246465512"
      ]
     },
     "execution_count": 1023,
     "metadata": {},
     "output_type": "execute_result"
    }
   ],
   "source": [
    "np.sum(w)"
   ]
  },
  {
   "cell_type": "markdown",
   "metadata": {
    "id": "uBUor5KWp3_Q"
   },
   "source": [
    "## Question 5\n",
    "Find the average of the predictions made by the above model.\n",
    "\n"
   ]
  },
  {
   "cell_type": "code",
   "execution_count": 1024,
   "metadata": {
    "id": "O2vF1aE2Rxfs"
   },
   "outputs": [],
   "source": [
    "## Enter your solution here\n",
    "y_hat = X.T@w"
   ]
  },
  {
   "cell_type": "code",
   "execution_count": 1025,
   "metadata": {},
   "outputs": [
    {
     "data": {
      "text/plain": [
       "22.30915841584223"
      ]
     },
     "execution_count": 1025,
     "metadata": {},
     "output_type": "execute_result"
    }
   ],
   "source": [
    "np.mean(y_hat)"
   ]
  },
  {
   "cell_type": "markdown",
   "metadata": {
    "id": "FSDbBz7ucm_a"
   },
   "source": [
    "## Question 6\n",
    "\n",
    "Find the loss for the training data points using the above model. Consider the loss to be defined as\n",
    "\n",
    "$$ \\sqrt{\\dfrac{1}{n}\\sum\\limits_{i=1}^{n} (y_i- \\hat{y}_i)^2}\n",
    "$$\n",
    "\n",
    "Where $\\hat{y}_i$ is the prediction for $i^{th}$ data point. \n",
    "\n"
   ]
  },
  {
   "cell_type": "code",
   "execution_count": 1026,
   "metadata": {
    "id": "F4jRui2VSeDt"
   },
   "outputs": [],
   "source": [
    "## Enter your solution here\n",
    "loss = np.linalg.norm(y - y_hat) / np.sqrt(y_hat.shape[0])"
   ]
  },
  {
   "cell_type": "code",
   "execution_count": 1027,
   "metadata": {},
   "outputs": [
    {
     "data": {
      "text/plain": [
       "4.552387969840814"
      ]
     },
     "execution_count": 1027,
     "metadata": {},
     "output_type": "execute_result"
    }
   ],
   "source": [
    "loss"
   ]
  },
  {
   "cell_type": "markdown",
   "metadata": {
    "id": "5eh8cI4PeVEb"
   },
   "source": [
    "## Question 7\n",
    "\n",
    "Find the loss for the test data points using the above model. Consider the loss to be defined as\n",
    "\n",
    "$$ \\sqrt{\\dfrac{1}{n}\\sum\\limits_{i=1}^{n} (y_i- \\hat{y}_i)^2}\n",
    "$$\n",
    "\n",
    "Where $\\hat{y}_i$ is the prediction for $i^{th}$ data point. \n",
    "\n"
   ]
  },
  {
   "cell_type": "code",
   "execution_count": 1028,
   "metadata": {
    "id": "vBMCgEIBU6v5"
   },
   "outputs": [],
   "source": [
    "## Enter your solution here\n",
    "y_hat_test = X_test.T@w\n",
    "\n",
    "test_loss = np.linalg.norm(y_hat_test-y_test) / np.sqrt(y_hat_test.shape[0])"
   ]
  },
  {
   "cell_type": "code",
   "execution_count": 1029,
   "metadata": {},
   "outputs": [
    {
     "data": {
      "text/plain": [
       "5.327662216181915"
      ]
     },
     "execution_count": 1029,
     "metadata": {},
     "output_type": "execute_result"
    }
   ],
   "source": [
    "test_loss"
   ]
  },
  {
   "cell_type": "markdown",
   "metadata": {
    "id": "NkeClcplfJLK"
   },
   "source": [
    "## Question 8\n",
    "Find the weights using the gradient descent. Use a constant learning rate of $\\eta = 10^{-10}$. Initialize the weight vector as zero vector and update the weights for 100 iterations. Enter the sum of all the weights.\n",
    "\n"
   ]
  },
  {
   "cell_type": "code",
   "execution_count": 1030,
   "metadata": {},
   "outputs": [
    {
     "data": {
      "text/plain": [
       "((14, 404), (404, 1))"
      ]
     },
     "execution_count": 1030,
     "metadata": {},
     "output_type": "execute_result"
    }
   ],
   "source": [
    "X.shape, y.shape"
   ]
  },
  {
   "cell_type": "code",
   "execution_count": 1031,
   "metadata": {
    "id": "QbpyGnfgWEqj"
   },
   "outputs": [],
   "source": [
    "## Enter your solution here\n",
    "eta = 1e-10\n",
    "w_ = np.zeros((X.shape[0], 1))\n",
    "epochs = 100\n",
    "\n",
    "for i in range(epochs):\n",
    "    w_ = w_ - 2*eta*((X@X.T)@w_ - X@y)"
   ]
  },
  {
   "cell_type": "code",
   "execution_count": 1032,
   "metadata": {},
   "outputs": [
    {
     "data": {
      "text/plain": [
       "0.05895906119590261"
      ]
     },
     "execution_count": 1032,
     "metadata": {},
     "output_type": "execute_result"
    }
   ],
   "source": [
    "np.sum(w_)"
   ]
  },
  {
   "cell_type": "markdown",
   "metadata": {
    "id": "78ApH0oAg96X"
   },
   "source": [
    "## Question 9\n",
    "\n",
    "Find the loss for the training data points if the model is learnt using the gradient descent as in question 8. Consider the loss to be defined as\n",
    "\n",
    "$$ \\sqrt{\\dfrac{1}{n}\\sum\\limits_{i=1}^{n} (y_i- \\hat{y}_i)^2}\n",
    "$$\n",
    "\n",
    "Where $\\hat{y}_i$ is the prediction for $i^{th}$ data point. \n",
    "\n"
   ]
  },
  {
   "cell_type": "code",
   "execution_count": 1033,
   "metadata": {},
   "outputs": [
    {
     "data": {
      "text/plain": [
       "((14, 1), (14, 404))"
      ]
     },
     "execution_count": 1033,
     "metadata": {},
     "output_type": "execute_result"
    }
   ],
   "source": [
    "w_.shape, X.shape"
   ]
  },
  {
   "cell_type": "code",
   "execution_count": 1034,
   "metadata": {
    "id": "oI1yIf9N8la7"
   },
   "outputs": [],
   "source": [
    "## Enter your solution here\n",
    "y_hat = X.T@w_\n",
    "\n",
    "loss = np.linalg.norm(y - y_hat) / np.sqrt(y_hat.shape[0])"
   ]
  },
  {
   "cell_type": "code",
   "execution_count": 1035,
   "metadata": {},
   "outputs": [
    {
     "data": {
      "text/plain": [
       "11.137273237021958"
      ]
     },
     "execution_count": 1035,
     "metadata": {},
     "output_type": "execute_result"
    }
   ],
   "source": [
    "loss"
   ]
  },
  {
   "cell_type": "markdown",
   "metadata": {
    "id": "FA7UKT1Y3PXa"
   },
   "source": [
    "## Question 10\n",
    "\n",
    "Find the loss for the test data points if the model is learnt using the gradient descent as in question 8. Consider the loss to be defined as\n",
    "\n",
    "$$ \\sqrt{\\dfrac{1}{n}\\sum\\limits_{i=1}^{n} (y_i- \\hat{y}_i)^2}\n",
    "$$\n",
    "\n",
    "Where $\\hat{y}_i$ is the prediction for $i^{th}$ data point. \n",
    "\n"
   ]
  },
  {
   "cell_type": "code",
   "execution_count": 1036,
   "metadata": {},
   "outputs": [
    {
     "data": {
      "text/plain": [
       "((14, 102), (14, 1))"
      ]
     },
     "execution_count": 1036,
     "metadata": {},
     "output_type": "execute_result"
    }
   ],
   "source": [
    "X_test.shape, w_.shape"
   ]
  },
  {
   "cell_type": "code",
   "execution_count": 1037,
   "metadata": {
    "id": "tevVzIIj3SZj"
   },
   "outputs": [],
   "source": [
    "## Enter your solution here\n",
    "y_hat_test = X_test.T@w_\n",
    "\n",
    "test_loss = np.linalg.norm(y_hat_test-y_test) / np.sqrt(y_hat_test.shape[0])"
   ]
  },
  {
   "cell_type": "code",
   "execution_count": 1038,
   "metadata": {},
   "outputs": [
    {
     "data": {
      "text/plain": [
       "10.964491250062148"
      ]
     },
     "execution_count": 1038,
     "metadata": {},
     "output_type": "execute_result"
    }
   ],
   "source": [
    "test_loss"
   ]
  },
  {
   "cell_type": "markdown",
   "metadata": {
    "id": "-AoLsBKc31Ul"
   },
   "source": [
    "## Question 11\n",
    "Find the weights using the stochastic gradient descent. Use a constant learning rate of $\\eta = 10^{-8}$. Initialize the weight vector as zero vector and update the weights for 1000 iterations. . Take the batch size of $⌈\\text{number of samples}/5⌉ $. For sampling the batch examples in $ith$ iteration, set seed at $i$. The final weight is the last updated weight. Do not take the avearge of weights updated in all the iterations. Enter the sum of all the weights.\n",
    "\n",
    "\n"
   ]
  },
  {
   "cell_type": "code",
   "execution_count": 1039,
   "metadata": {},
   "outputs": [
    {
     "data": {
      "text/plain": [
       "((14, 404), (404, 1))"
      ]
     },
     "execution_count": 1039,
     "metadata": {},
     "output_type": "execute_result"
    }
   ],
   "source": [
    "X.shape, y.shape"
   ]
  },
  {
   "cell_type": "code",
   "execution_count": 1040,
   "metadata": {
    "id": "R4odop9yF9VY"
   },
   "outputs": [],
   "source": [
    "## Enter your solution here\n",
    "eta = 1e-8\n",
    "epochs = 1000\n",
    "w = np.zeros((X.shape[0], 1))\n",
    "\n",
    "for i in range(epochs):\n",
    "    indices = np.random.choice(X.shape[1], 100, replace=False)\n",
    "    X_temp = X[:, indices]\n",
    "    y_temp = y[indices, :]\n",
    "    w = w - 2 * eta * (X_temp@X_temp.T@w - X_temp@y_temp)"
   ]
  },
  {
   "cell_type": "code",
   "execution_count": 1041,
   "metadata": {},
   "outputs": [
    {
     "data": {
      "text/plain": [
       "0.10885475109115737"
      ]
     },
     "execution_count": 1041,
     "metadata": {},
     "output_type": "execute_result"
    }
   ],
   "source": [
    "np.sum(w)"
   ]
  },
  {
   "cell_type": "markdown",
   "metadata": {
    "id": "yPzJLciH4NrV"
   },
   "source": [
    "## Question 12\n",
    "\n",
    "Find the loss for the training data points if the model is learnt using the stochastic gradient descent as in question 11. Consider the loss to be defined as\n",
    "\n",
    "$$ \\sqrt{\\dfrac{1}{n}\\sum\\limits_{i=1}^{n} (y_i- \\hat{y}_i)^2}\n",
    "$$\n",
    "\n",
    "Where $\\hat{y}_i$ is the prediction for $i^{th}$ data point. \n",
    "\n"
   ]
  },
  {
   "cell_type": "code",
   "execution_count": 1042,
   "metadata": {
    "id": "w9usLAPeLNkt"
   },
   "outputs": [],
   "source": [
    "## Enter your solution here\n",
    "y_hat = X.T@w\n",
    "\n",
    "loss = np.linalg.norm(y - y_hat) / np.sqrt(y_hat.shape[0])"
   ]
  },
  {
   "cell_type": "code",
   "execution_count": 1043,
   "metadata": {},
   "outputs": [
    {
     "data": {
      "text/plain": [
       "8.585095389659028"
      ]
     },
     "execution_count": 1043,
     "metadata": {},
     "output_type": "execute_result"
    }
   ],
   "source": [
    "loss"
   ]
  },
  {
   "cell_type": "markdown",
   "metadata": {
    "id": "rfeamQM94x_N"
   },
   "source": [
    "## Question 13\n",
    "\n",
    "Find the loss for the test data points if the model is learnt using the stochastic gradient descent as in question 11. Consider the loss to be defined as\n",
    "\n",
    "$$ \\sqrt{\\dfrac{1}{n}\\sum\\limits_{i=1}^{n} (y_i- \\hat{y}_i)^2}\n",
    "$$\n",
    "\n",
    "Where $\\hat{y}_i$ is the prediction for $i^{th}$ data point. \n"
   ]
  },
  {
   "cell_type": "code",
   "execution_count": 1044,
   "metadata": {
    "id": "oF1xpNH845iH"
   },
   "outputs": [],
   "source": [
    "## Enter your solution here\n",
    "y_hat_test = X_test.T@w\n",
    "\n",
    "test_loss = np.linalg.norm(y_hat_test-y_test) / np.sqrt(y_hat_test.shape[0])"
   ]
  },
  {
   "cell_type": "code",
   "execution_count": 1045,
   "metadata": {},
   "outputs": [
    {
     "data": {
      "text/plain": [
       "8.232238672303415"
      ]
     },
     "execution_count": 1045,
     "metadata": {},
     "output_type": "execute_result"
    }
   ],
   "source": [
    "test_loss"
   ]
  },
  {
   "cell_type": "markdown",
   "metadata": {
    "id": "muMOKLvY5D9O"
   },
   "source": [
    "# Section 2:\n",
    "\n",
    "**kernel Regression**"
   ]
  },
  {
   "cell_type": "markdown",
   "metadata": {
    "id": "pDAKRJua6rCU"
   },
   "source": [
    "We will generate the synthetic dataset for the kernel regression problem. Run the following cell to get the following variables:\n",
    "\n",
    "`X` = Training data matrix of shape $(n, d)$. In the given dataset $d = 1$. \n",
    "\n",
    "`y` = label vector corresponding to the training dataset"
   ]
  },
  {
   "cell_type": "code",
   "execution_count": 1046,
   "metadata": {
    "id": "_WgICXZSnra0"
   },
   "outputs": [],
   "source": [
    "rng = np.random.default_rng(seed = 101)\n",
    "X = np.arange(-2, 2, 0.01).reshape(-1, 1)\n",
    "y = X**3 + rng.normal(0, 1, X.shape[0]).reshape(-1, 1)"
   ]
  },
  {
   "cell_type": "markdown",
   "metadata": {
    "id": "y_-9lyPm8aaj"
   },
   "source": [
    "## Question 14\n",
    "\n",
    "Plot the scatter plot between feature and the labels. Enter your answer as 0.\n",
    "\n"
   ]
  },
  {
   "cell_type": "code",
   "execution_count": 1047,
   "metadata": {},
   "outputs": [
    {
     "data": {
      "text/plain": [
       "((400, 1), (400, 1))"
      ]
     },
     "execution_count": 1047,
     "metadata": {},
     "output_type": "execute_result"
    }
   ],
   "source": [
    "X.shape, y.shape"
   ]
  },
  {
   "cell_type": "code",
   "execution_count": 1048,
   "metadata": {
    "id": "B12Nc2Sv80_s"
   },
   "outputs": [
    {
     "data": {
      "image/png": "[encoded data removed]",
      "text/plain": [
       "<Figure size 640x480 with 1 Axes>"
      ]
     },
     "metadata": {},
     "output_type": "display_data"
    }
   ],
   "source": [
    "## Enter your solution here\n",
    "import matplotlib.pyplot as plt\n",
    "\n",
    "plt.scatter(X, y)\n",
    "plt.show()"
   ]
  },
  {
   "cell_type": "markdown",
   "metadata": {
    "id": "E3e-gQHg8z8x"
   },
   "source": [
    "## Question 15\n",
    "How many examples are there in the training dataset?\n",
    "\n"
   ]
  },
  {
   "cell_type": "code",
   "execution_count": 1049,
   "metadata": {
    "id": "xGeqMCV57ZJB"
   },
   "outputs": [
    {
     "data": {
      "text/plain": [
       "400"
      ]
     },
     "execution_count": 1049,
     "metadata": {},
     "output_type": "execute_result"
    }
   ],
   "source": [
    "## Enter your solution here\n",
    "X.shape[0]"
   ]
  },
  {
   "cell_type": "markdown",
   "metadata": {
    "id": "uPifeX-K9zuU"
   },
   "source": [
    "## Task:\n",
    "\n",
    "Add the dummy feature in the feature matrix `X`and reshape it to the shape $(d, n)$."
   ]
  },
  {
   "cell_type": "code",
   "execution_count": 1050,
   "metadata": {
    "id": "yduBBJQgujfE"
   },
   "outputs": [],
   "source": [
    "## Enter your solution here\n",
    "X = np.concatenate((np.ones((X.shape[0], 1)), X), axis=1).T"
   ]
  },
  {
   "cell_type": "code",
   "execution_count": 1051,
   "metadata": {},
   "outputs": [
    {
     "data": {
      "text/plain": [
       "(2, 400)"
      ]
     },
     "execution_count": 1051,
     "metadata": {},
     "output_type": "execute_result"
    }
   ],
   "source": [
    "X.shape"
   ]
  },
  {
   "cell_type": "markdown",
   "metadata": {
    "id": "HQtBOQua_HQB"
   },
   "source": [
    "## Question 16\n",
    "\n",
    "Our task is to apply the kernel regression with polynomial kernel of degree 3. We know that weight vector can be written as\n",
    "\n",
    "$$w = \\phi(\\mathbb{x})\\alpha$$\n",
    "\n",
    "let us call the vector $\\alpha$ as coefficient vector. Find the sum of elements in the coefficient vector.\n",
    "\n"
   ]
  },
  {
   "cell_type": "code",
   "execution_count": 1052,
   "metadata": {
    "id": "CVMDkgkNqCBG"
   },
   "outputs": [],
   "source": [
    "## Enter your solution here\n",
    "K = (X.T@X + 1) ** 3\n",
    "alp = np.linalg.pinv(K)@y"
   ]
  },
  {
   "cell_type": "code",
   "execution_count": 1053,
   "metadata": {},
   "outputs": [
    {
     "data": {
      "text/plain": [
       "-0.02182769775390625"
      ]
     },
     "execution_count": 1053,
     "metadata": {},
     "output_type": "execute_result"
    }
   ],
   "source": [
    "np.sum(alp)"
   ]
  },
  {
   "cell_type": "markdown",
   "metadata": {
    "id": "Xq0YtsGjA7IK"
   },
   "source": [
    "## Question 17\n",
    "\n",
    "Find the sum of the predictions made by the kernel regression model of degree 3.\n",
    "\n"
   ]
  },
  {
   "cell_type": "code",
   "execution_count": 1054,
   "metadata": {},
   "outputs": [
    {
     "data": {
      "text/plain": [
       "((2, 400), (400, 1), (400, 1), (400, 400))"
      ]
     },
     "execution_count": 1054,
     "metadata": {},
     "output_type": "execute_result"
    }
   ],
   "source": [
    "X.shape, alp.shape, y.shape, K.shape"
   ]
  },
  {
   "cell_type": "code",
   "execution_count": 1055,
   "metadata": {
    "id": "YAqln4GZ05dg"
   },
   "outputs": [],
   "source": [
    "## Enter your solution here\n",
    "y_hat = (alp.T@K).T"
   ]
  },
  {
   "cell_type": "code",
   "execution_count": 1056,
   "metadata": {},
   "outputs": [
    {
     "data": {
      "text/plain": [
       "(400, 1)"
      ]
     },
     "execution_count": 1056,
     "metadata": {},
     "output_type": "execute_result"
    }
   ],
   "source": [
    "y_hat.shape"
   ]
  },
  {
   "cell_type": "code",
   "execution_count": 1057,
   "metadata": {},
   "outputs": [
    {
     "data": {
      "text/plain": [
       "-54.81901863745094"
      ]
     },
     "execution_count": 1057,
     "metadata": {},
     "output_type": "execute_result"
    }
   ],
   "source": [
    "np.sum(y_hat)"
   ]
  },
  {
   "cell_type": "markdown",
   "metadata": {
    "id": "pXRpijIeCcSr"
   },
   "source": [
    "## Question 18\n",
    "\n",
    "Find the loss for the training data points. Consider the loss to be defined as\n",
    "\n",
    "$$ \\sqrt{\\dfrac{1}{n}\\sum\\limits_{i=1}^{n} (y_i- \\hat{y}_i)^2}\n",
    "$$\n",
    "\n",
    "Where $\\hat{y}_i$ is the prediction for $i^{th}$ data point. \n",
    "\n"
   ]
  },
  {
   "cell_type": "code",
   "execution_count": 1058,
   "metadata": {
    "id": "8_i2Th-g1ToW"
   },
   "outputs": [
    {
     "data": {
      "text/plain": [
       "1.0113424951457248"
      ]
     },
     "execution_count": 1058,
     "metadata": {},
     "output_type": "execute_result"
    }
   ],
   "source": [
    "## Enter your solution here\n",
    "loss = np.linalg.norm(y - y_hat) / np.sqrt(y_hat.shape[0])\n",
    "loss"
   ]
  },
  {
   "cell_type": "markdown",
   "metadata": {
    "id": "nGpw3zpI65rm"
   },
   "source": [
    "### Test dataset\n",
    "\n",
    "run the following cell to get the test data matrix `X_test` and corresponding label vector `y_test`."
   ]
  },
  {
   "cell_type": "code",
   "execution_count": 1059,
   "metadata": {
    "colab": {
     "base_uri": "https://localhost:8080/",
     "height": 282
    },
    "executionInfo": {
     "elapsed": 722,
     "status": "ok",
     "timestamp": 1664774902982,
     "user": {
      "displayName": "Nitin Kumar Jha",
      "userId": "04937771533360242308"
     },
     "user_tz": -330
    },
    "id": "fLNDYH_B67kN",
    "outputId": "23f47e9c-4498-4cbc-d1de-816210d576bf"
   },
   "outputs": [
    {
     "data": {
      "text/plain": [
       "<matplotlib.collections.PathCollection at 0x7f2235bdf970>"
      ]
     },
     "execution_count": 1059,
     "metadata": {},
     "output_type": "execute_result"
    },
    {
     "data": {
      "image/png": "[encoded data removed]",
      "text/plain": [
       "<Figure size 640x480 with 1 Axes>"
      ]
     },
     "metadata": {},
     "output_type": "display_data"
    }
   ],
   "source": [
    "rng = np.random.default_rng(seed = 102)\n",
    "Xnew = np.arange(-2, 2, 0.03)\n",
    "ynew = Xnew**3 + rng.normal(0, 1.5, Xnew.shape[0])\n",
    "X_test = np.column_stack((np.ones(Xnew.shape[0]), Xnew.reshape(-1, 1))).T\n",
    "y_test = ynew.reshape(-1, 1)\n",
    "plt.scatter(Xnew,ynew)"
   ]
  },
  {
   "cell_type": "markdown",
   "metadata": {
    "id": "5vlunIBzDI1_"
   },
   "source": [
    "## Question 19\n",
    "\n",
    "Find the loss for the test data points. Consider the loss to be defined as\n",
    "\n",
    "$$ \\sqrt{\\dfrac{1}{n}\\sum\\limits_{i=1}^{n} (y_i- \\hat{y}_i)^2}\n",
    "$$\n",
    "\n",
    "Where $\\hat{y}_i$ is the prediction for $i^{th}$ data point. \n",
    "\n"
   ]
  },
  {
   "cell_type": "code",
   "execution_count": 1060,
   "metadata": {},
   "outputs": [
    {
     "data": {
      "text/plain": [
       "(2, 134)"
      ]
     },
     "execution_count": 1060,
     "metadata": {},
     "output_type": "execute_result"
    }
   ],
   "source": [
    "X_test.shape"
   ]
  },
  {
   "cell_type": "code",
   "execution_count": 1061,
   "metadata": {},
   "outputs": [
    {
     "data": {
      "text/plain": [
       "((400, 134), (400, 1))"
      ]
     },
     "execution_count": 1061,
     "metadata": {},
     "output_type": "execute_result"
    }
   ],
   "source": [
    "## Enter your solution here\n",
    "K_test = (X.T @ X_test + 1) ** 3\n",
    "K_test.shape, alp.shape"
   ]
  },
  {
   "cell_type": "code",
   "execution_count": 1062,
   "metadata": {},
   "outputs": [],
   "source": [
    "y_hat_test = (alp.T@K_test).T"
   ]
  },
  {
   "cell_type": "code",
   "execution_count": 1063,
   "metadata": {},
   "outputs": [
    {
     "data": {
      "text/plain": [
       "1.5760831596834148"
      ]
     },
     "execution_count": 1063,
     "metadata": {},
     "output_type": "execute_result"
    }
   ],
   "source": [
    "loss = np.linalg.norm(y_test - y_hat_test) / np.sqrt(y_hat_test.shape[0])\n",
    "loss"
   ]
  }
 ],
 "metadata": {
  "colab": {
   "authorship_tag": "ABX9TyNJUEnxpvCg+b/3+7JiXvKy",
   "collapsed_sections": [
    "uBUor5KWp3_Q",
    "FSDbBz7ucm_a",
    "5eh8cI4PeVEb"
   ],
   "provenance": [
    {
     "file_id": "1Wfx6j2bgIPk6sc172Tid4hfgQmqfMgPg",
     "timestamp": 1664774525346
    }
   ]
  },
  "kernelspec": {
   "display_name": "Python 3 (ipykernel)",
   "language": "python",
   "name": "python3"
  },
  "language_info": {
   "codemirror_mode": {
    "name": "ipython",
    "version": 3
   },
   "file_extension": ".py",
   "mimetype": "text/x-python",
   "name": "python",
   "nbconvert_exporter": "python",
   "pygments_lexer": "ipython3",
   "version": "3.11.3"
  },
  "vscode": {
   "interpreter": {
    "hash": "e7370f93d1d0cde622a1f8e1c04877d8463912d04d973331ad4851f04de6915a"
   }
  }
 },
 "nbformat": 4,
 "nbformat_minor": 4
}
