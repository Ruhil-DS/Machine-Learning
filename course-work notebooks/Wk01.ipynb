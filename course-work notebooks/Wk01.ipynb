{
 "cells": [
  {
   "cell_type": "markdown",
   "metadata": {
    "id": "53TcQvUOjGxr"
   },
   "source": [
    "# Week-1\n",
    "\n",
    "**Note to Learners**: \n",
    "\n",
    "- Click on \"Copy to Drive\", the button that appears just below the taskbar, to make a copy of this notebook in your drive. If you continue working with this notebook, changes **will not** be saved.\n",
    "\n",
    "\n",
    "- For questions that involve plotting, just enter $0$ as the answer in the portal.\n",
    "- For numerical questions, there are two parts. The first part expects you to compute some quantity, say a parameter of a machine learning model. The second part will require you to convert this quantity (if it is not a scalar) into a scalar so that it can be entered as the answer on the portal to the corresponding NAT question.\n",
    "\n"
   ]
  },
  {
   "cell_type": "markdown",
   "metadata": {
    "id": "I3DzbeU33QxN"
   },
   "source": [
    "## Dataset\n",
    "\n",
    "We will be working with a subset of the [MNIST dataset](https://en.wikipedia.org/wiki/MNIST_database). Run the cell given below to generate the data-matrix $\\mathbf{X}$, which is of shape $(n, d)$, where $n$ denotes the number of samples and $d$ denotes the number of features. You will be using this dataset for the rest of the assignment. Do not edit this cell."
   ]
  },
  {
   "cell_type": "code",
   "execution_count": 1,
   "metadata": {
    "id": "uOBXmnyg3ZFH"
   },
   "outputs": [
    {
     "name": "stderr",
     "output_type": "stream",
     "text": [
      "2023-06-08 18:26:18.075451: I tensorflow/core/platform/cpu_feature_guard.cc:182] This TensorFlow binary is optimized to use available CPU instructions in performance-critical operations.\n",
      "To enable the following instructions: SSE3 SSE4.1 SSE4.2 AVX AVX2 FMA, in other operations, rebuild TensorFlow with the appropriate compiler flags.\n",
      "/usr/lib/python3.11/site-packages/h5py/__init__.py:36: UserWarning: h5py is running against HDF5 1.14.1 when it was built against 1.14.0, this may cause problems\n",
      "  _warn((\"h5py is running against HDF5 {0} when it was built against {1}, \"\n"
     ]
    },
    {
     "name": "stdout",
     "output_type": "stream",
     "text": [
      "Downloading data from https://storage.googleapis.com/tensorflow/tf-keras-datasets/mnist.npz\n",
      "11490434/11490434 [==============================] - 3s 0us/step\n"
     ]
    }
   ],
   "source": [
    "##### DATASET GENERATION #####\n",
    "import numpy as np\n",
    "from keras.datasets import mnist\n",
    "(X_train, y_train), (X_test, y_test) = mnist.load_data()\n",
    "X = X_train[y_train == 2][: 100].reshape(-1, 28 * 28)\n",
    "test_image = X_test[y_test == 2][0].reshape(28 * 28)\n",
    "##### DO NOT EDIT THIS CELL #####"
   ]
  },
  {
   "cell_type": "markdown",
   "metadata": {
    "id": "5RyvzK8z4o47"
   },
   "source": [
    "## Problem-1\n",
    "\n",
    "How many samples does the dataset have?"
   ]
  },
  {
   "cell_type": "code",
   "execution_count": 2,
   "metadata": {
    "colab": {
     "base_uri": "https://localhost:8080/"
    },
    "id": "rFXCXoje52x-",
    "outputId": "d5a11bdf-2972-4934-f59b-77fef8ab4bc6"
   },
   "outputs": [
    {
     "data": {
      "text/plain": [
       "100"
      ]
     },
     "execution_count": 2,
     "metadata": {},
     "output_type": "execute_result"
    }
   ],
   "source": [
    "# Enter your solution here\n",
    "X.shape[0]"
   ]
  },
  {
   "cell_type": "markdown",
   "metadata": {
    "id": "UrmLi2sK4ynX"
   },
   "source": [
    "## Problem-2\n",
    "\n",
    "How many features does the dataset have?"
   ]
  },
  {
   "cell_type": "code",
   "execution_count": 3,
   "metadata": {
    "colab": {
     "base_uri": "https://localhost:8080/"
    },
    "id": "WQ75O4D141R0",
    "outputId": "3ffd273f-338a-4e0d-d4ec-843ca866be0f"
   },
   "outputs": [
    {
     "data": {
      "text/plain": [
       "784"
      ]
     },
     "execution_count": 3,
     "metadata": {},
     "output_type": "execute_result"
    }
   ],
   "source": [
    "# Enter your solution here\n",
    "X.shape[1]"
   ]
  },
  {
   "cell_type": "markdown",
   "metadata": {
    "id": "BPUFxtI55G2h"
   },
   "source": [
    "## Problem-3\n",
    "\n",
    "Each sample corresponds to an image of dimension $28 \\times 28$. Visualize one of these images using the `matplotlib` library. \n",
    "\n",
    "- You need to know how to reshape a feature vector. Refer to week-0 content for the same.\n",
    "- You can refer to the following [document](https://matplotlib.org/stable/tutorials/introductory/images.html#sphx-glr-tutorials-introductory-images-py) for plotting NumPy arrays as images using `matplotlib`."
   ]
  },
  {
   "cell_type": "code",
   "execution_count": 4,
   "metadata": {
    "colab": {
     "base_uri": "https://localhost:8080/",
     "height": 283
    },
    "id": "ExvRNXPZ6246",
    "outputId": "9b575991-3920-43f7-f2f1-eae8e58eeeb6"
   },
   "outputs": [
    {
     "data": {
      "text/plain": [
       "<matplotlib.image.AxesImage at 0x7f68b5942b50>"
      ]
     },
     "execution_count": 4,
     "metadata": {},
     "output_type": "execute_result"
    },
    {
     "data": {
      "image/png": "[encoded data removed]",
      "text/plain": [
       "<Figure size 640x480 with 1 Axes>"
      ]
     },
     "metadata": {},
     "output_type": "display_data"
    }
   ],
   "source": [
    "# Enter your solution here\n",
    "import matplotlib.pyplot as plt\n",
    "\n",
    "plt.imshow(X[32].reshape((28,28)))"
   ]
  },
  {
   "cell_type": "markdown",
   "metadata": {
    "id": "8e2xflo8FF8K"
   },
   "source": [
    "## Problem-4\n",
    "\n",
    "Center the the dataset $\\mathbf{X}$ around its mean. Call this centered dataset $\\mathbf{X}^{\\prime}$.\n",
    "\n",
    "<u>Conversion</u>\n",
    "\n",
    "Enter the following quantity as your answer correct to two decimal places:\n",
    "\n",
    "$$\n",
    "\\cfrac{1}{n \\cdot d} \\sqrt{\\sum \\limits_{i = 1}^{n} \\sum \\limits_{j = 1}^{d} (X_{ij}^{\\prime})^2}\n",
    "$$"
   ]
  },
  {
   "cell_type": "code",
   "execution_count": 5,
   "metadata": {
    "colab": {
     "base_uri": "https://localhost:8080/"
    },
    "id": "9uNDPtBjH5Df",
    "outputId": "8e34b38e-d48e-4321-e3b7-ab666ccdd041"
   },
   "outputs": [
    {
     "data": {
      "text/plain": [
       "0.23242174456564685"
      ]
     },
     "execution_count": 5,
     "metadata": {},
     "output_type": "execute_result"
    }
   ],
   "source": [
    "# Enter your solution \n",
    "X_mean = X - X.mean(0)\n",
    "\n",
    "np.sqrt(np.sum(X_mean ** 2)) / (X.shape[0] * X.shape[1])"
   ]
  },
  {
   "cell_type": "code",
   "execution_count": 6,
   "metadata": {
    "colab": {
     "base_uri": "https://localhost:8080/",
     "height": 283
    },
    "id": "4YZdTcOrqOLA",
    "outputId": "7f4db201-9b26-460a-8ab7-ab39df9e7fe3"
   },
   "outputs": [
    {
     "data": {
      "text/plain": [
       "<matplotlib.image.AxesImage at 0x7f68b59b9790>"
      ]
     },
     "execution_count": 6,
     "metadata": {},
     "output_type": "execute_result"
    },
    {
     "data": {
      "image/png": "[encoded data removed]",
      "text/plain": [
       "<Figure size 640x480 with 1 Axes>"
      ]
     },
     "metadata": {},
     "output_type": "display_data"
    }
   ],
   "source": [
    "plt.imshow(X_mean[32].reshape((28,28)))"
   ]
  },
  {
   "cell_type": "markdown",
   "metadata": {
    "id": "8UPKuD8uJCnE"
   },
   "source": [
    "## Problem-5\n",
    "\n",
    "Compute the covariance matrix $\\mathbf{C}$ of the centered dataset.\n",
    "\n",
    "<u>Conversion</u>\n",
    "\n",
    "Enter the following quantity as your answer correct to two decimal places:\n",
    "\n",
    "$$\n",
    "\\cfrac{1}{d^2} \\sqrt{\\sum \\limits_{i = 1}^{d} \\sum \\limits_{j = 1}^{d} C_{ij}^2}\n",
    "$$"
   ]
  },
  {
   "cell_type": "code",
   "execution_count": 7,
   "metadata": {
    "colab": {
     "base_uri": "https://localhost:8080/"
    },
    "id": "ZWT1bzBDlk2m",
    "outputId": "b8efd93d-b13b-447d-81a7-718348a5f66e"
   },
   "outputs": [
    {
     "data": {
      "text/plain": [
       "1.3648061009232249"
      ]
     },
     "execution_count": 7,
     "metadata": {},
     "output_type": "execute_result"
    }
   ],
   "source": [
    "# Enter your solution here\n",
    "C = (X_mean.T@X_mean)/100\n",
    "\n",
    "np.sqrt(np.sum(C ** 2))/(C.shape[0] ** 2)"
   ]
  },
  {
   "cell_type": "markdown",
   "metadata": {
    "id": "FfJK8OiMr2mh"
   },
   "source": [
    "## Problem-6\n",
    "\n",
    "Compute the first and second principal components of the dataset, $\\mathbf{w}_1$ and $\\mathbf{w}_2$.\n",
    "\n",
    "<u>Conversion</u>\n",
    "\n",
    "Compute:\n",
    "$$\n",
    "\\mathbf{w} = \\mathbf{w}_1 + \\mathbf{w}_2\n",
    "$$\n",
    "\n",
    "Enter the following quantity as your answer correct to two decimal places:\n",
    "\n",
    "$$\n",
    "\\left| \\sum \\limits_{i = 1}^{d} w_i \\right|\n",
    "$$"
   ]
  },
  {
   "cell_type": "code",
   "execution_count": 8,
   "metadata": {
    "colab": {
     "base_uri": "https://localhost:8080/"
    },
    "id": "KgJ1FCa1tvZR",
    "outputId": "414b90b9-7006-48e1-c44e-32633ee5e8f3"
   },
   "outputs": [
    {
     "data": {
      "text/plain": [
       "1.051624388059818"
      ]
     },
     "execution_count": 8,
     "metadata": {},
     "output_type": "execute_result"
    }
   ],
   "source": [
    "# Enter your solution here\n",
    "w, v = np.linalg.eigh(C)\n",
    "\n",
    "np.sum(v[:, -1] + v[:, -2])"
   ]
  },
  {
   "cell_type": "markdown",
   "metadata": {
    "id": "9CBt_pmj-5pl"
   },
   "source": [
    "## Problem-7\n",
    "\n",
    "Visualize the first principal component as an image."
   ]
  },
  {
   "cell_type": "code",
   "execution_count": 12,
   "metadata": {},
   "outputs": [
    {
     "data": {
      "text/plain": [
       "(784,)"
      ]
     },
     "execution_count": 12,
     "metadata": {},
     "output_type": "execute_result"
    }
   ],
   "source": [
    "v[:, -1].shape"
   ]
  },
  {
   "cell_type": "code",
   "execution_count": 9,
   "metadata": {
    "colab": {
     "base_uri": "https://localhost:8080/",
     "height": 283
    },
    "id": "KXiJLyT7_N29",
    "outputId": "45150633-29e6-47d4-b9a0-5a07a3fdf9f8"
   },
   "outputs": [
    {
     "data": {
      "text/plain": [
       "<matplotlib.image.AxesImage at 0x7f68b583ab90>"
      ]
     },
     "execution_count": 9,
     "metadata": {},
     "output_type": "execute_result"
    },
    {
     "data": {
      "image/png": "[encoded data removed]",
      "text/plain": [
       "<Figure size 640x480 with 1 Axes>"
      ]
     },
     "metadata": {},
     "output_type": "display_data"
    }
   ],
   "source": [
    "# Enter your solution here\n",
    "plt.imshow(v[:,-1].reshape((28,28)))"
   ]
  },
  {
   "cell_type": "markdown",
   "metadata": {
    "id": "o37ie_mqxqhy"
   },
   "source": [
    "## Problem-8\n",
    "\n",
    "Find the smallest value of $k$ for which the first $k$ principal components capture at least $95\\%$ of the variance in the data."
   ]
  },
  {
   "cell_type": "code",
   "execution_count": 10,
   "metadata": {
    "colab": {
     "base_uri": "https://localhost:8080/"
    },
    "id": "_JiPpEwCyvQK",
    "outputId": "c2e79af0-4fd1-43be-a53a-8af4c07a5225"
   },
   "outputs": [
    {
     "data": {
      "text/plain": [
       "[782, 778, 762, 731]"
      ]
     },
     "execution_count": 10,
     "metadata": {},
     "output_type": "execute_result"
    }
   ],
   "source": [
    "# Enter your solution here\n",
    "\n",
    "k = w.shape[0] - 1\n",
    "total = np.sum(w)\n",
    "cur = np.sum(w[k:])\n",
    "ks = []\n",
    "\n",
    "for i in [0.20, 0.50, 0.8, 0.95]:\n",
    "  while cur/total < i:\n",
    "    k -= 1\n",
    "    cur = np.sum(w[k:])\n",
    "  ks.append(k)\n",
    "  \n",
    "\n",
    "ks"
   ]
  },
  {
   "cell_type": "markdown",
   "metadata": {
    "id": "5raTmu_s0Gpq"
   },
   "source": [
    "## Problem-9\n",
    "\n",
    "Given a `test_image`, visualize the proxies  by reconstructing it using the top $k$ principal components. Consider four values of $k$; values of $k$ for which the top-$k$ principal components explain:\n",
    "\n",
    "- 20% of the variance\n",
    "- 50% of the variance\n",
    "- 80% of the variance\n",
    "- 95% of the variance\n",
    "\n"
   ]
  },
  {
   "cell_type": "code",
   "execution_count": 11,
   "metadata": {
    "colab": {
     "base_uri": "https://localhost:8080/",
     "height": 274
    },
    "id": "yrjf1Er24vLo",
    "outputId": "63a9e41b-9d4d-4bb1-bd98-4765e0f31458"
   },
   "outputs": [
    {
     "data": {
      "text/plain": [
       "<Figure size 640x480 with 0 Axes>"
      ]
     },
     "metadata": {},
     "output_type": "display_data"
    },
    {
     "data": {
      "image/png": "[encoded data removed]",
      "text/plain": [
       "<Figure size 2000x10000 with 5 Axes>"
      ]
     },
     "metadata": {},
     "output_type": "display_data"
    }
   ],
   "source": [
    "# Enter your solution here\n",
    "plt.figure()\n",
    "\n",
    "f, axes = plt.subplots(1,5, figsize = (20,100))\n",
    "i = 0\n",
    "titles = [\"20%\", \"50%\", \"80%\", \"95%\", \"100%\"]\n",
    "\n",
    "for k in ks:\n",
    "  required = v[:, k:].T\n",
    "  x = 0\n",
    "\n",
    "  for vi in required:\n",
    "    x += (X_mean[32].reshape((1,-1))@vi.reshape((-1,1)))*vi\n",
    "\n",
    "  axes[i].imshow(x.reshape((28,28)))\n",
    "  axes[i].set_title(titles[i])\n",
    "  i += 1\n",
    "\n",
    "axes[i].imshow(X_mean[32].reshape((28,28)))\n",
    "axes[i].set_title(titles[i])\n",
    "\n",
    "plt.show()"
   ]
  },
  {
   "cell_type": "code",
   "execution_count": null,
   "metadata": {
    "id": "yRZsOAbGmltd"
   },
   "outputs": [],
   "source": []
  }
 ],
 "metadata": {
  "colab": {
   "provenance": []
  },
  "gpuClass": "standard",
  "kernelspec": {
   "display_name": "Python 3 (ipykernel)",
   "language": "python",
   "name": "python3"
  },
  "language_info": {
   "codemirror_mode": {
    "name": "ipython",
    "version": 3
   },
   "file_extension": ".py",
   "mimetype": "text/x-python",
   "name": "python",
   "nbconvert_exporter": "python",
   "pygments_lexer": "ipython3",
   "version": "3.11.3"
  }
 },
 "nbformat": 4,
 "nbformat_minor": 4
}
