{
 "cells": [
  {
   "cell_type": "code",
   "execution_count": 1,
   "metadata": {
    "id": "q_ck4etoQn3-"
   },
   "outputs": [],
   "source": [
    "import numpy as np\n",
    "import matplotlib.pyplot as plt"
   ]
  },
  {
   "cell_type": "markdown",
   "metadata": {
    "id": "1TBHlt7hAdN1"
   },
   "source": [
    "# Week-2\n",
    "\n",
    "**Note to Learners**: \n",
    "\n",
    "- For questions that involve plotting, just enter $0$ as the answer in the portal.\n",
    "- For numerical questions, there are two parts. The first part expects you to compute some quantity, say a parameter of a machine learning model. The second part will require you to convert this quantity (if it is not a scalar) into a scalar so that it can be entered as the answer on the portal to the corresponding NAT question.\n",
    "\n"
   ]
  },
  {
   "cell_type": "markdown",
   "metadata": {
    "id": "lqXdDNyBh5Ui"
   },
   "source": [
    "## Dataset\n",
    "\n",
    "Run the cell given below to generate the data-matrix $\\mathbf{X}$, which is of shape $(n, d)$, where $n$ denotes the number of samples and $d$ denotes the number of features. Ignore the vector $y$. You will be using this dataset for the rest of the assignment. Do not edit this cell."
   ]
  },
  {
   "cell_type": "code",
   "execution_count": 2,
   "metadata": {
    "id": "CAbrCY_dRRxP"
   },
   "outputs": [],
   "source": [
    "from sklearn.datasets import make_circles\n",
    "\n",
    "X, y = make_circles(n_samples=1000, factor=0.9, noise=0.2, random_state=0)"
   ]
  },
  {
   "cell_type": "markdown",
   "metadata": {
    "id": "mvplHWyjiUbW"
   },
   "source": [
    "## Problem 1\n",
    "Plot the dataset using matplotlib."
   ]
  },
  {
   "cell_type": "code",
   "execution_count": 3,
   "metadata": {
    "colab": {
     "base_uri": "https://localhost:8080/",
     "height": 265
    },
    "id": "WsId_TzBRmCR",
    "outputId": "6f2dd844-5d1c-4bcb-bc26-1b7c75b08e45"
   },
   "outputs": [
    {
     "data": {
      "image/png": "[encoded data removed]",
      "text/plain": [
       "<Figure size 432x288 with 1 Axes>"
      ]
     },
     "metadata": {
      "needs_background": "light"
     },
     "output_type": "display_data"
    }
   ],
   "source": [
    "# Enter your solution here\n",
    "plt.scatter(X[:, 1], X[:, 0])\n",
    "X = X.T"
   ]
  },
  {
   "cell_type": "markdown",
   "metadata": {
    "id": "HmOUoVes-wp8"
   },
   "source": [
    "## Problem 2\n",
    "How many samples are there in the dataset?\n"
   ]
  },
  {
   "cell_type": "code",
   "execution_count": 4,
   "metadata": {
    "colab": {
     "base_uri": "https://localhost:8080/"
    },
    "id": "UcR4nDys-5Tt",
    "outputId": "72427779-8d10-44bc-a980-ea903bf7804c"
   },
   "outputs": [
    {
     "data": {
      "text/plain": [
       "2"
      ]
     },
     "execution_count": 4,
     "metadata": {},
     "output_type": "execute_result"
    }
   ],
   "source": [
    "# Enter your solution here\n",
    "X.shape[0]"
   ]
  },
  {
   "cell_type": "markdown",
   "metadata": {
    "id": "aZfEFUur_dqG"
   },
   "source": [
    "## Problem 3\n",
    "How many features are there in the dataset?"
   ]
  },
  {
   "cell_type": "code",
   "execution_count": 5,
   "metadata": {
    "colab": {
     "base_uri": "https://localhost:8080/"
    },
    "id": "UggWLA-p_lg7",
    "outputId": "9dce4267-68c5-408a-c578-dff51f0289bc"
   },
   "outputs": [
    {
     "data": {
      "text/plain": [
       "1000"
      ]
     },
     "execution_count": 5,
     "metadata": {},
     "output_type": "execute_result"
    }
   ],
   "source": [
    "# Enter your solution here\n",
    "X.shape[1]"
   ]
  },
  {
   "cell_type": "markdown",
   "metadata": {
    "id": "gasf65KuidsK"
   },
   "source": [
    "## Problem 4\n",
    "Find the kernel matrix $K$ using the polynomial kernel with degree $2$. \n",
    "\n",
    "<u>Conversion</u>\n",
    "\n",
    "Enter the following quantity as your answer correct to two decimal places:\n",
    "\n",
    "$$\n",
    "\\cfrac{1}{n} \\sqrt{\\sum \\limits_{i = 1}^{n} \\sum \\limits_{j = 1}^{n} (K_{ij})^2}\n",
    "$$"
   ]
  },
  {
   "cell_type": "code",
   "execution_count": 6,
   "metadata": {
    "colab": {
     "base_uri": "https://localhost:8080/"
    },
    "id": "FgXEvNlWS8yM",
    "outputId": "591257ed-11b9-4ea5-8147-b171ff421d8a"
   },
   "outputs": [
    {
     "data": {
      "text/plain": [
       "2.096195646589988"
      ]
     },
     "execution_count": 6,
     "metadata": {},
     "output_type": "execute_result"
    }
   ],
   "source": [
    "# Enter your solution here\n",
    "K_pol = (X.T@X + 1) ** 2\n",
    "np.sqrt(np.sum(K_pol ** 2))/1000"
   ]
  },
  {
   "cell_type": "markdown",
   "metadata": {
    "id": "klNZ9eQTlIFO"
   },
   "source": [
    "## Problem 5\n",
    "Find the kernel matrix $K$ using the Gaussian kernel with parameter $\\sigma = 2$. \n",
    "\n",
    "<u>Conversion</u>\n",
    "\n",
    "Enter the following quantity as your answer correct to two decimal places:\n",
    "\n",
    "$$\n",
    "\\cfrac{1}{n} \\sqrt{\\sum \\limits_{i = 1}^{n} \\sum \\limits_{j = 1}^{n} (K_{ij})^2}\n",
    "$$"
   ]
  },
  {
   "cell_type": "code",
   "execution_count": 7,
   "metadata": {
    "colab": {
     "base_uri": "https://localhost:8080/"
    },
    "id": "Z-sZEL_wjobv",
    "outputId": "ee6db5e4-6ed5-47b6-a0da-076e724f099a"
   },
   "outputs": [
    {
     "data": {
      "text/plain": [
       "0.8079400085320029"
      ]
     },
     "execution_count": 7,
     "metadata": {},
     "output_type": "execute_result"
    }
   ],
   "source": [
    "# Enter your solution here\n",
    "from scipy.spatial.distance import cdist\n",
    "\n",
    "Z = cdist(X.T, X.T, metric=\"sqeuclidean\")\n",
    "\n",
    "K_gaus = np.exp(-Z/8)\n",
    "\n",
    "np.sqrt(np.sum(K_gaus ** 2))/1000"
   ]
  },
  {
   "cell_type": "markdown",
   "metadata": {
    "id": "OGvN9q6uphxv"
   },
   "source": [
    "## Problem 6\n",
    "Find the center of the kernel matrix $K$ obtained in problem 2. Call this centered matrix $KC$.\n",
    "\n",
    "<u>Conversion</u>\n",
    "\n",
    "Enter the following quantity as your answer correct to two decimal places:\n",
    "\n",
    "$$\n",
    "\\cfrac{1}{n} \\sqrt{\\sum \\limits_{i = 1}^{n} \\sum \\limits_{j = 1}^{n} KC_{ij}^2}\n",
    "$$"
   ]
  },
  {
   "cell_type": "code",
   "execution_count": 9,
   "metadata": {
    "colab": {
     "base_uri": "https://localhost:8080/"
    },
    "id": "ol4jeOpZTVc9",
    "outputId": "e4f1e90a-7ca0-48c4-b78f-eaa67aac6eae"
   },
   "outputs": [
    {
     "data": {
      "text/plain": [
       "1.4517985176976844"
      ]
     },
     "execution_count": 9,
     "metadata": {},
     "output_type": "execute_result"
    }
   ],
   "source": [
    "# Enter your solution here\n",
    "I = np.ones((1000, 1000)) * (1/1000)\n",
    "\n",
    "KC = K_pol - I@K_pol - K_pol@I + I@K_pol@I\n",
    "np.sqrt(np.sum(KC ** 2)) / 1000"
   ]
  },
  {
   "cell_type": "markdown",
   "metadata": {
    "id": "ewkUhHHTsEQo"
   },
   "source": [
    "## Problem 7\n",
    "Find the projections (scalar) of all the data points on to the first two principal components obtained using polynomial kernel of degree 2.\n",
    "\n",
    "<u>Conversion</u>\n",
    "\n",
    "if $\\alpha_1, \\alpha_2, ..., \\alpha_n$ are the projections on the first PC and $\\beta_1, \\beta_2, ..., \\beta_n$ are the projections on the second PC, enter the following quantity as your answer correct to two decimal places:\n",
    "\n",
    "$$\\sum_{i = 1}^{n} \\alpha_i + \\sum_{i = 1}^{n} \\beta_i$$"
   ]
  },
  {
   "cell_type": "code",
   "execution_count": 11,
   "metadata": {
    "colab": {
     "base_uri": "https://localhost:8080/"
    },
    "id": "UvjNO9wWZ4WG",
    "outputId": "ad436cf7-9a4b-4ebd-8a46-c1fae7290db3"
   },
   "outputs": [
    {
     "data": {
      "text/plain": [
       "1.7447267990953337"
      ]
     },
     "execution_count": 11,
     "metadata": {},
     "output_type": "execute_result"
    }
   ],
   "source": [
    "# Enter your solution here\n",
    "w, v = np.linalg.eigh(KC)\n",
    "\n",
    "alp = (KC@v[:, -1])/np.sqrt(w[-1])\n",
    "bet = (KC@v[:, -2])/np.sqrt(w[-2])\n",
    "\n",
    "(np.sum(np.abs(alp)) + np.sum(np.abs(bet))) / 1000"
   ]
  },
  {
   "cell_type": "code",
   "execution_count": 10,
   "metadata": {
    "id": "BctL2e0idL8k"
   },
   "outputs": [],
   "source": []
  }
 ],
 "metadata": {
  "colab": {
   "provenance": []
  },
  "kernelspec": {
   "display_name": "Python 3 (ipykernel)",
   "language": "python",
   "name": "python3"
  },
  "language_info": {
   "codemirror_mode": {
    "name": "ipython",
    "version": 3
   },
   "file_extension": ".py",
   "mimetype": "text/x-python",
   "name": "python",
   "nbconvert_exporter": "python",
   "pygments_lexer": "ipython3",
   "version": "3.11.3"
  }
 },
 "nbformat": 4,
 "nbformat_minor": 4
}
