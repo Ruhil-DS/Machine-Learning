{
  "cells": [
    {
      "cell_type": "markdown",
      "metadata": {
        "id": "53TcQvUOjGxr"
      },
      "source": [
        "# Week-4: Part-1\n"
      ]
    },
    {
      "cell_type": "code",
      "execution_count": 1,
      "metadata": {
        "id": "FasmVZvHPgMW"
      },
      "outputs": [],
      "source": [
        "import numpy as np\n",
        "import matplotlib.pyplot as plt\n",
        "# Set size of figure\n",
        "plt.rcParams['figure.figsize'] = [8, 8]\n",
        "# Set size of font\n",
        "plt.rcParams['font.size'] = 10"
      ]
    },
    {
      "cell_type": "markdown",
      "metadata": {
        "id": "7A9Gri4ZP1oK"
      },
      "source": [
        "## Sampling\n",
        "\n",
        "Sampling from a distribution is an important skill. While learning ML, it is often a good idea to work with toy-datasets. These toy-datasets can be generated from well known distributions such as the Bernoulli and Gaussian. The next section will introduce the idea of sampling in NumPy."
      ]
    },
    {
      "cell_type": "markdown",
      "metadata": {
        "id": "-Pu7bCK2QsXZ"
      },
      "source": [
        "### Random number generator\n",
        "\n",
        "We can sample from distributions with the help of a random number generator:"
      ]
    },
    {
      "cell_type": "code",
      "execution_count": 2,
      "metadata": {
        "id": "srJG5sWKQNj8"
      },
      "outputs": [],
      "source": [
        "rng = np.random.default_rng()"
      ]
    },
    {
      "cell_type": "markdown",
      "metadata": {
        "id": "zupDoZTNQ6i0"
      },
      "source": [
        "We will start by generating a dataset of ones and zeros. The following code generates a sample of size $10$."
      ]
    },
    {
      "cell_type": "code",
      "execution_count": 3,
      "metadata": {
        "colab": {
          "base_uri": "https://localhost:8080/"
        },
        "id": "aQqjseA3RYkB",
        "outputId": "677e3ecf-fec7-4ff6-d1de-6d6f1de34062"
      },
      "outputs": [
        {
          "data": {
            "text/plain": [
              "array([1, 1, 1, 0, 1, 0, 1, 1, 0, 0])"
            ]
          },
          "execution_count": 3,
          "metadata": {},
          "output_type": "execute_result"
        }
      ],
      "source": [
        "rng = np.random.default_rng(seed = 1001)\n",
        "X = rng.integers(0, 2, size = 10)\n",
        "X"
      ]
    },
    {
      "cell_type": "markdown",
      "metadata": {
        "id": "1SMcmJIeRxNq"
      },
      "source": [
        "Notice that we have used a seed value as an argument to the random number generator. This is meant to ensure reproducability. That is, no matter how many times this cell is run, we will get the same sequence of random numbers. First run the cell a few times to verify that this is true. Now, run the cell with a different seed value and see what happens."
      ]
    },
    {
      "cell_type": "markdown",
      "metadata": {
        "id": "3hZYSGhISplV"
      },
      "source": [
        "## Problem-1\n",
        "\n",
        "For the dataset `X` given below, what is the maximum likelihood estimate of the mean if we use a Bernoulli distribution with parameter $p$ to model this data? Perform all your operations in the cell given below. Do not change the seed value. Enter your answer correct to three decimal places."
      ]
    },
    {
      "cell_type": "code",
      "execution_count": 5,
      "metadata": {
        "id": "9G8arNCoSiGs"
      },
      "outputs": [
        {
          "data": {
            "text/plain": [
              "0.506"
            ]
          },
          "execution_count": 5,
          "metadata": {},
          "output_type": "execute_result"
        }
      ],
      "source": [
        "### Data ###\n",
        "rng = np.random.default_rng(seed = 1001)\n",
        "X = rng.integers(0, 2, size = 1000)\n",
        "### Solution ###\n",
        "np.sum(X)/X.shape[0]"
      ]
    },
    {
      "cell_type": "markdown",
      "metadata": {
        "id": "x3Xy5GoJTA4E"
      },
      "source": [
        "What happens if we increase the size of the dataset to $10000$? We see that `np.integers` is only giving us observations from a discrete uniform distribution. In other words, if you think about it as a coin toss, the coin is unbiased. How do we generate samples from a biased coin or a Bernoulli distribution with $p \\neq 0.5$? We use a method called `choice`. This method \"chooses\" numbers from a list or an array based on the probabilities given to it in the array `p`."
      ]
    },
    {
      "cell_type": "code",
      "execution_count": 6,
      "metadata": {
        "colab": {
          "base_uri": "https://localhost:8080/"
        },
        "id": "8y-D9idxTb_H",
        "outputId": "6731ddf1-14a9-49e2-d0bc-1e632ec8dabe"
      },
      "outputs": [
        {
          "data": {
            "text/plain": [
              "array([1, 0, 0, 1, 0, 1, 1, 0, 0, 0, 0, 1, 1, 1, 1, 1, 1, 1, 0, 1])"
            ]
          },
          "execution_count": 6,
          "metadata": {},
          "output_type": "execute_result"
        }
      ],
      "source": [
        "rng = np.random.default_rng(seed = 1001)\n",
        "X = rng.choice([0, 1], size = 20, p = [0.2, 0.8])\n",
        "X"
      ]
    },
    {
      "cell_type": "markdown",
      "metadata": {
        "id": "bem3q_teT25M"
      },
      "source": [
        "Note that the array `p` specifies the probabilities of $0$ and $1$."
      ]
    },
    {
      "cell_type": "markdown",
      "metadata": {
        "id": "hlCA6LGoT_II"
      },
      "source": [
        "## Problem-2\n",
        "\n",
        "Sample $1000$ points from a  Bernoulli distribution whose parameter is $p = 0.7$. Compute the maximum likelihood estimate of the parameter given this sample. Perform all your operations in the cell given below. Enter your answer correct to three decimal places.\n",
        "\n",
        "**Note**:\n",
        "\n",
        "- The parameter $p$ of a Bernoulli distribution always points to $P(x = 1)$.\n",
        "\n",
        "- It may seem pointless to compute the MLE when the parameter is already known to us. But this is a good exercise to verify our understanding of concepts with such toy-datasets."
      ]
    },
    {
      "cell_type": "code",
      "execution_count": 8,
      "metadata": {
        "id": "w_-xhU84UPZZ"
      },
      "outputs": [
        {
          "data": {
            "text/plain": [
              "0.707"
            ]
          },
          "execution_count": 8,
          "metadata": {},
          "output_type": "execute_result"
        }
      ],
      "source": [
        "### RNG ###\n",
        "rng = np.random.default_rng(seed = 1001)\n",
        "### Solution ###\n",
        "X = rng.choice([0, 1], size=1000, p=[0.3, 0.7])\n",
        "np.sum(X)/X.shape[0]"
      ]
    },
    {
      "cell_type": "markdown",
      "metadata": {
        "id": "GBiZn4OIU0JX"
      },
      "source": [
        "## Problem-3\n",
        "\n",
        "Plot a bar graph of the above sample. You can use the `plt.bar` method. To know more about a method in Google Colab type `plt.bar?` in a cell and run it."
      ]
    },
    {
      "cell_type": "code",
      "execution_count": 12,
      "metadata": {
        "id": "PJh5VT-4U5YT"
      },
      "outputs": [
        {
          "data": {
            "text/plain": [
              "<BarContainer object of 2 artists>"
            ]
          },
          "execution_count": 12,
          "metadata": {},
          "output_type": "execute_result"
        },
        {
          "data": {
            "image/png": "[encoded data removed]",
            "text/plain": [
              "<Figure size 800x800 with 1 Axes>"
            ]
          },
          "metadata": {},
          "output_type": "display_data"
        }
      ],
      "source": [
        "### Solution ###\n",
        "plt.bar([0,1], height=[0.293, 0.707])"
      ]
    },
    {
      "cell_type": "markdown",
      "metadata": {
        "id": "YEN10JivYnpf"
      },
      "source": [
        "## Problem-4\n",
        "\n",
        "What is the impact of the size of the dataset on the MLE? Generate datasets of the following sizes:\n",
        "\n",
        "- $n = 10$\n",
        "- $n = 100$\n",
        "- $n = 1000$\n",
        "- $n = 10000$\n",
        "- $n = 100000$\n",
        "- $n = 1000000$\n",
        "\n",
        "Sample each dataset from a Bernoulli distribution with parameter $p = 0.2$. For each dataset, first compute the MLE and then compute the difference (abs value) between the MLE and the true parameter. That is, compute the value $d$ for different values of $n$\n",
        "\n",
        "$$\n",
        "d(n) = |\\hat{p}_{ML} - p|\n",
        "$$\n",
        "\n",
        "Plot $d(n)$ with respect to $n$. What do you osbserve?\n"
      ]
    },
    {
      "cell_type": "code",
      "execution_count": 16,
      "metadata": {
        "id": "cL_dR4SoZZDa"
      },
      "outputs": [
        {
          "data": {
            "text/plain": [
              "<BarContainer object of 6 artists>"
            ]
          },
          "execution_count": 16,
          "metadata": {},
          "output_type": "execute_result"
        },
        {
          "data": {
            "image/png": "[encoded data removed]",
            "text/plain": [
              "<Figure size 800x800 with 1 Axes>"
            ]
          },
          "metadata": {},
          "output_type": "display_data"
        }
      ],
      "source": [
        "### RNG ###\n",
        "rng = np.random.default_rng(seed = 1001)\n",
        "### Solution ###\n",
        "x = [10, 100, 1000, 10000, 100000, 1000000]\n",
        "y = []\n",
        "for i in x:\n",
        "    X = rng.choice([0, 1], size=1000, p=[0.8, 0.2])\n",
        "    y.append(0.2 - np.sum(X)/X.shape[0])\n",
        "\n",
        "plt.bar([1,2,3,4,5,6], y)"
      ]
    },
    {
      "cell_type": "markdown",
      "metadata": {
        "id": "_pcJqb0kWEvu"
      },
      "source": [
        "## Problem-5\n",
        "\n",
        "Sample $1000$ points from a six sided, biased die with faces: $1, 2, 3, 4, 5, 6$. The parameters corresponding to the six faces are:\n",
        "\n",
        "$$\n",
        "[0.1, 0.2, 0.3, 0.3, 0.05, 0.05]\n",
        "$$\n",
        "\n",
        "Note that this is a categorical distribution. Refer to the practice assignment for a similar problem. Find the maximum likelihood estimate of the parameter $p_3$ (corresponds to the third face). Perform all your operations in the cell given below. Enter your answer correct to three decimal places."
      ]
    },
    {
      "cell_type": "code",
      "execution_count": 19,
      "metadata": {
        "id": "zDQQnX4_Xujg"
      },
      "outputs": [
        {
          "data": {
            "text/plain": [
              "0.319"
            ]
          },
          "execution_count": 19,
          "metadata": {},
          "output_type": "execute_result"
        }
      ],
      "source": [
        "### RNG ###\n",
        "rng = np.random.default_rng(seed = 1001)\n",
        "### Solution ###\n",
        "X = rng.choice([1,2,3,4,5,6], size=1000, p=[0.1, 0.2, 0.3, 0.3, 0.05, 0.05])\n",
        "np.sum(X == 3)/1000"
      ]
    },
    {
      "cell_type": "markdown",
      "metadata": {
        "id": "MowGk5GjYJT_"
      },
      "source": [
        "## Problem-6\n",
        "\n",
        "Plot the bar graph for the above sample."
      ]
    },
    {
      "cell_type": "code",
      "execution_count": 20,
      "metadata": {
        "id": "d6uwHy88Yw7N"
      },
      "outputs": [
        {
          "data": {
            "text/plain": [
              "<BarContainer object of 6 artists>"
            ]
          },
          "execution_count": 20,
          "metadata": {},
          "output_type": "execute_result"
        },
        {
          "data": {
            "image/png": "[encoded data removed]",
            "text/plain": [
              "<Figure size 800x800 with 1 Axes>"
            ]
          },
          "metadata": {},
          "output_type": "display_data"
        }
      ],
      "source": [
        "## Solution ##\n",
        "plt.bar([1,2,3,4,5,6], [np.sum(X == 1)/1000,np.sum(X == 2)/1000,np.sum(X == 3)/1000,np.sum(X == 4)/1000,np.sum(X == 5)/1000,np.sum(X == 6)/1000])"
      ]
    },
    {
      "cell_type": "markdown",
      "metadata": {
        "id": "YOPtgJ_4gSaY"
      },
      "source": [
        "We now move to the Gaussian distribution. First, we shall get used to computing the density of a Gaussian given its mean and variance."
      ]
    },
    {
      "cell_type": "markdown",
      "metadata": {
        "id": "GatC9VZtgckX"
      },
      "source": [
        "## Problem-7\n",
        "\n",
        "Consider the following Gaussian distribution:\n",
        "\n",
        "$$\n",
        "\\mathcal{N}(3, 1.5^2)\n",
        "$$\n",
        "\n",
        "Compute the density of the point $5$ with respect to this distribution. Enter your answer correct to three decimal places."
      ]
    },
    {
      "cell_type": "code",
      "execution_count": null,
      "metadata": {
        "id": "ydI-KzQQgtsb"
      },
      "outputs": [],
      "source": [
        "## Solution ##\n"
      ]
    },
    {
      "cell_type": "markdown",
      "metadata": {
        "id": "8-FRiUbGg_IO"
      },
      "source": [
        "Now, we shall move to sampling from a Gaussian distribution."
      ]
    },
    {
      "cell_type": "markdown",
      "metadata": {
        "id": "ccDt9scAhLVG"
      },
      "source": [
        "## Problem-8\n",
        "\n",
        "Generate a dataset of $1000$ points from a Gaussian distribution with mean $3$ and standard deviation $1.5$. Find the maximum likelihood estimate of the mean for this dataset. Enter your answer correct to three decimal places. Use the cell given below for all your computations. You can search for the method to use from the NumPy docs. It is quite similar to what we did for the case of the Bernoulli and categorical distributions."
      ]
    },
    {
      "cell_type": "code",
      "execution_count": 22,
      "metadata": {
        "id": "XrufSsuYhacc"
      },
      "outputs": [
        {
          "data": {
            "text/plain": [
              "2.9444187484087863"
            ]
          },
          "execution_count": 22,
          "metadata": {},
          "output_type": "execute_result"
        }
      ],
      "source": [
        "### RNG ###\n",
        "rng = np.random.default_rng(seed = 1001)\n",
        "### Solution ###\n",
        "X = rng.normal(3, 1.5, 1000)\n",
        "np.sum(X)/1000"
      ]
    },
    {
      "cell_type": "markdown",
      "metadata": {
        "id": "tnFOXcFLhkiD"
      },
      "source": [
        "## Problem-9\n",
        "\n",
        "Plot the histogram of the dataset given above. Use the `plt.hist` method."
      ]
    },
    {
      "cell_type": "code",
      "execution_count": 25,
      "metadata": {
        "id": "MacX7cbhhoeh"
      },
      "outputs": [
        {
          "data": {
            "text/plain": [
              "(array([ 14.,  38., 105., 178., 214., 194., 146.,  77.,  26.,   8.]),\n",
              " array([-1.14276524, -0.29404916,  0.55466692,  1.403383  ,  2.25209908,\n",
              "         3.10081516,  3.94953124,  4.79824732,  5.6469634 ,  6.49567948,\n",
              "         7.34439556]),\n",
              " <BarContainer object of 10 artists>)"
            ]
          },
          "execution_count": 25,
          "metadata": {},
          "output_type": "execute_result"
        },
        {
          "data": {
            "image/png": "[encoded data removed]",
            "text/plain": [
              "<Figure size 800x800 with 1 Axes>"
            ]
          },
          "metadata": {},
          "output_type": "display_data"
        }
      ],
      "source": [
        "## Solution ##\n",
        "plt.hist(X, bins=10)"
      ]
    },
    {
      "cell_type": "markdown",
      "metadata": {
        "id": "vGWU-0B0P7xR"
      },
      "source": [
        "We will now turn to understanding the shapes of the Beta distribution for different values of parameters $\\alpha$ and $\\beta$."
      ]
    },
    {
      "cell_type": "markdown",
      "metadata": {
        "id": "2YGpPqHpQTjr"
      },
      "source": [
        "## Problem-10\n",
        "\n",
        "Plot the beta distribution for the following values:\n",
        "\n",
        "- $\\alpha = 5, \\beta = 5$\n",
        "- $\\alpha = 5, \\beta = 1.5$\n",
        "- $\\alpha = 1.5, \\beta = 5$\n",
        "- $\\alpha = 0.5, \\beta = 0.5$\n",
        "\n",
        "\n",
        "Do not worry about the normalization constant. Use `plt.subplot(2, 2, i)` to plot all four distributions in a single figure. `i` should take the values 1, 2, 3 and 4 for these four subplots. If you are not sure how it works, google it. Stackoverflow will be of great help here."
      ]
    },
    {
      "cell_type": "code",
      "execution_count": 44,
      "metadata": {
        "id": "2br4TZm4QRQF"
      },
      "outputs": [
        {
          "data": {
            "image/png": "[encoded data removed]",
            "text/plain": [
              "<Figure size 800x800 with 4 Axes>"
            ]
          },
          "metadata": {},
          "output_type": "display_data"
        }
      ],
      "source": [
        "# Solution ##\n",
        "from scipy.stats import beta\n",
        "\n",
        "fig, ax = plt.subplots(2, 2)\n",
        "\n",
        "a, b = 5, 5\n",
        "# Define the parameters of the beta distribution\n",
        "x = np.linspace(beta.ppf(0.01, a, b), beta.ppf(0.99, a, b), 100)\n",
        "\n",
        "ax[(0, 0)].plot(x, beta.pdf(x, a, b),'r-', lw=5, alpha=0.6, label='beta pdf')\n",
        "\n",
        "a, b = 5, 1.5\n",
        "# Define the parameters of the beta distribution\n",
        "x = np.linspace(beta.ppf(0.01, a, b), beta.ppf(0.99, a, b), 100)\n",
        "\n",
        "ax[(0, 1)].plot(x, beta.pdf(x, a, b),'r-', lw=5, alpha=0.6, label='beta pdf')\n",
        "\n",
        "a, b = 1.5, 5\n",
        "# Define the parameters of the beta distribution\n",
        "x = np.linspace(beta.ppf(0.01, a, b), beta.ppf(0.99, a, b), 100)\n",
        "\n",
        "ax[(1,0)].plot(x, beta.pdf(x, a, b),'r-', lw=5, alpha=0.6, label='beta pdf')\n",
        "\n",
        "a, b = 0.5, 0.5\n",
        "# Define the parameters of the beta distribution\n",
        "x = np.linspace(beta.ppf(0.01, a, b), beta.ppf(0.99, a, b), 100)\n",
        "\n",
        "ax[(1,1)].plot(x, beta.pdf(x, a, b),'r-', lw=5, alpha=0.6, label='beta pdf')\n",
        "\n",
        "# Show the plot\n",
        "plt.show()"
      ]
    }
  ],
  "metadata": {
    "colab": {
      "provenance": []
    },
    "kernelspec": {
      "display_name": "Python 3",
      "language": "python",
      "name": "python3"
    },
    "language_info": {
      "codemirror_mode": {
        "name": "ipython",
        "version": 3
      },
      "file_extension": ".py",
      "mimetype": "text/x-python",
      "name": "python",
      "nbconvert_exporter": "python",
      "pygments_lexer": "ipython3",
      "version": "3.10.9"
    },
    "vscode": {
      "interpreter": {
        "hash": "e7370f93d1d0cde622a1f8e1c04877d8463912d04d973331ad4851f04de6915a"
      }
    }
  },
  "nbformat": 4,
  "nbformat_minor": 0
}
